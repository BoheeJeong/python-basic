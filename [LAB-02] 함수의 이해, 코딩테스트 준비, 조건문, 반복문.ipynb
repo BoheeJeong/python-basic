{
 "cells": [
  {
   "cell_type": "markdown",
   "id": "a29ce8d7",
   "metadata": {},
   "source": [
    "# LAB 02 - 함수의 이해 / 조건문과 반복문"
   ]
  },
  {
   "cell_type": "markdown",
   "id": "d48cf69f",
   "metadata": {},
   "source": [
    "## 내장함수 type 살펴보기"
   ]
  },
  {
   "cell_type": "code",
   "execution_count": null,
   "id": "d5e6fefe",
   "metadata": {},
   "outputs": [
    {
     "name": "stdout",
     "output_type": "stream",
     "text": [
      "<class 'int'>\n"
     ]
    }
   ],
   "source": [
    "\n",
    "age = 20\n",
    "typeOfAge = type(age)\n",
    "print(typeOfAge)"
   ]
  },
  {
   "cell_type": "code",
   "execution_count": null,
   "id": "212f9663",
   "metadata": {},
   "outputs": [
    {
     "name": "stdout",
     "output_type": "stream",
     "text": [
      "<class 'float'>\n"
     ]
    }
   ],
   "source": [
    "pi=3.14\n",
    "typeOfPi=type(pi)\n",
    "print(typeOfPi)"
   ]
  },
  {
   "cell_type": "code",
   "execution_count": null,
   "id": "2cd0ab67",
   "metadata": {},
   "outputs": [
    {
     "name": "stdout",
     "output_type": "stream",
     "text": [
      "<class 'str'>\n"
     ]
    }
   ],
   "source": [
    "message=\"hello python\"\n",
    "typeOfMessage = type(message)\n",
    "print(typeOfMessage)"
   ]
  },
  {
   "cell_type": "code",
   "execution_count": null,
   "id": "a9dfdf61",
   "metadata": {},
   "outputs": [
    {
     "name": "stdout",
     "output_type": "stream",
     "text": [
      "<class 'bool'>\n"
     ]
    }
   ],
   "source": [
    "ok=True\n",
    "typeOfOk = type(ok)\n",
    "print(typeOfOk)"
   ]
  },
  {
   "cell_type": "code",
   "execution_count": null,
   "id": "186952e4",
   "metadata": {},
   "outputs": [
    {
     "name": "stdout",
     "output_type": "stream",
     "text": [
      "Life is too short 100 3.14 True\n"
     ]
    }
   ],
   "source": [
    "a=100\n",
    "b=3.14\n",
    "c=True\n",
    "\n",
    "print(\"Life\",\"is\",\"too\",\"short\",a,b,c)\n"
   ]
  },
  {
   "cell_type": "code",
   "execution_count": null,
   "id": "a60fbefa",
   "metadata": {},
   "outputs": [
    {
     "name": "stdout",
     "output_type": "stream",
     "text": [
      "안녕하세요 데이터 타입이 궁금해요!\n"
     ]
    }
   ],
   "source": [
    "message = input(\"메세지를 입력하세요!\")\n",
    "print(message)"
   ]
  },
  {
   "cell_type": "code",
   "execution_count": null,
   "id": "e1eecdb3",
   "metadata": {},
   "outputs": [
    {
     "name": "stdout",
     "output_type": "stream",
     "text": [
      "<class 'str'>\n"
     ]
    }
   ],
   "source": [
    "t=type(message)\n",
    "print(t)"
   ]
  },
  {
   "cell_type": "markdown",
   "id": "53ce24ef",
   "metadata": {},
   "source": [
    "## print() 함수 살펴보기"
   ]
  },
  {
   "cell_type": "code",
   "execution_count": null,
   "id": "e9f6218c",
   "metadata": {},
   "outputs": [
    {
     "name": "stdout",
     "output_type": "stream",
     "text": [
      "안녕하세요 저는 햄스터를 키우고 있어요\n"
     ]
    }
   ],
   "source": [
    "#문자열을 더하면 연결하게 된다\n",
    "a=\"안녕하세요 \"\n",
    "b=\"저는 햄스터를 키우고 있어요\"\n",
    "print(a+b)"
   ]
  },
  {
   "cell_type": "markdown",
   "id": "51b8ab13",
   "metadata": {},
   "source": [
    "## input() 함수 살펴보고, 입력 받은 문자열 활용하기"
   ]
  },
  {
   "cell_type": "code",
   "execution_count": null,
   "id": "dc9546d8",
   "metadata": {},
   "outputs": [
    {
     "name": "stdout",
     "output_type": "stream",
     "text": [
      "500001000\n"
     ]
    }
   ],
   "source": [
    "#input 으로 입력받은 항목은 모두 str 값으로 인식\n",
    "money=input(\"금액을 입력해주세요\")\n",
    "change=input(\"잔액을 입력해주세요\")\n",
    "print(money+change)\n"
   ]
  },
  {
   "cell_type": "code",
   "execution_count": null,
   "id": "01e97e06",
   "metadata": {},
   "outputs": [
    {
     "name": "stdout",
     "output_type": "stream",
     "text": [
      "501000\n"
     ]
    }
   ],
   "source": [
    "#input 으로 입력받은 항목은 모두 str 값으로 인식, 따라서 내가 원하는 형태로 형변환을 해줘야 한다\n",
    "money=int(input(\"금액을 입력해주세요\"))\n",
    "change=int(input(\"잔액을 입력해주세요\"))\n",
    "print(money+change)"
   ]
  },
  {
   "cell_type": "code",
   "execution_count": null,
   "id": "8c3ecc6d",
   "metadata": {},
   "outputs": [
    {
     "name": "stdout",
     "output_type": "stream",
     "text": [
      "503.71000000000004\n"
     ]
    }
   ],
   "source": [
    "#문자형 데이터는 float 으로 살수로 만들어 줄 수 있음\n",
    "a=\"152.36\"\n",
    "b=\"351.35\"\n",
    "\n",
    "a2=float(a)\n",
    "b2=float(b)\n",
    "\n",
    "print(a2+b2)"
   ]
  },
  {
   "cell_type": "code",
   "execution_count": null,
   "id": "54b8de32",
   "metadata": {},
   "outputs": [
    {
     "name": "stdout",
     "output_type": "stream",
     "text": [
      "9080\n"
     ]
    }
   ],
   "source": [
    "#사용자가 입력한 값에 대해서 정수 혹은 실수로 변환해줄 수 있음\n",
    "\n",
    "\n",
    "math=input(\"수학 성적을 입력하세요\")\n",
    "science = input(\"과학 성적을 입력하세요\")\n",
    "print(math+science)\n"
   ]
  },
  {
   "cell_type": "code",
   "execution_count": null,
   "id": "39c5c4cb",
   "metadata": {},
   "outputs": [
    {
     "name": "stdout",
     "output_type": "stream",
     "text": [
      "170\n"
     ]
    }
   ],
   "source": [
    "#사용자가 입력한 값에 대해서 정수 혹은 실수로 변환해줄 수 있음\n",
    "\n",
    "math=input(\"수학 성적을 입력하세요\")\n",
    "science = input(\"과학 성적을 입력하세요\")\n",
    "\n",
    "math_score=int(math)\n",
    "science_score=int(science)\n",
    "\n",
    "print(math_score+science_score)"
   ]
  },
  {
   "cell_type": "code",
   "execution_count": null,
   "id": "49dcba94",
   "metadata": {},
   "outputs": [
    {
     "name": "stdout",
     "output_type": "stream",
     "text": [
      "<class 'str'>\n",
      "<class 'int'>\n"
     ]
    }
   ],
   "source": [
    "#사용자로부터 입력받은 값의 데이터 타입 확인하기\n",
    "budget=input(\"이번달 총 예산을 입력해주세요\")\n",
    "int_budget=int(budget)\n",
    "\n",
    "print(type(budget))\n",
    "print(type(int_budget))\n",
    "\n"
   ]
  },
  {
   "cell_type": "markdown",
   "id": "9776cf01",
   "metadata": {},
   "source": [
    "## 함수의 이해"
   ]
  },
  {
   "cell_type": "code",
   "execution_count": null,
   "id": "5b5fb879",
   "metadata": {},
   "outputs": [
    {
     "name": "stdout",
     "output_type": "stream",
     "text": [
      "왼쪽시력은 1.2 이고 오른쪽 시력은 1.3 이며 평균 시력은 1.2\n"
     ]
    }
   ],
   "source": [
    "#사용자로부터 입력받은 값을 활용해서 시력 출력하기\n",
    "\n",
    "def avg(a,b):\n",
    "    return round((a+b)/2,2)\n",
    "\n",
    "left_sight=float(input(\"왼쪽 시력을 입력해주세요\"))\n",
    "right_sight=float(input('오른쪽 시력을 입력해주세요'))\n",
    "\n",
    "print(\"왼쪽시력은\" ,left_sight ,'이고', \"오른쪽 시력은\" , right_sight,'이며','평균 시력은',avg(right_sight,left_sight))\n",
    "\n"
   ]
  },
  {
   "cell_type": "code",
   "execution_count": null,
   "id": "92123e21",
   "metadata": {},
   "outputs": [
    {
     "name": "stdout",
     "output_type": "stream",
     "text": [
      "첫 학기와 두번째 학기 학점은 각각 90.0 80.0 이고, 평균 학점은 130.0 입니다\n"
     ]
    }
   ],
   "source": [
    "#사용자로부터 입력받은 학점을 함수를 통해 출력하기\n",
    "first_semester = float(input(\"첫 학기의 학점을 입력해주세요\"))\n",
    "second_semester=float(input(\"두번쨰 학기의 학점을 입력해주세요\"))\n",
    "\n",
    "\n",
    "def avg(a,b):\n",
    "    return round(a+b/2,2)\n",
    "\n",
    "print(\"첫 학기와 두번째 학기 학점은 각각\", first_semester,second_semester ,\"이고, 평균 학점은\" , avg(first_semester,second_semester), '입니다')\n"
   ]
  },
  {
   "cell_type": "code",
   "execution_count": null,
   "id": "826ae7aa",
   "metadata": {},
   "outputs": [
    {
     "name": "stdout",
     "output_type": "stream",
     "text": [
      "6\n",
      "30\n"
     ]
    }
   ],
   "source": [
    "#단순 계산 함수 만들어보기\n",
    "def sum1(x,y,z=0):\n",
    "    answer = x+y+z\n",
    "    print(answer)\n",
    "\n",
    "sum1(1,2,3)\n",
    "sum1(10,20)"
   ]
  },
  {
   "cell_type": "code",
   "execution_count": null,
   "id": "e8f8180b",
   "metadata": {},
   "outputs": [
    {
     "name": "stdout",
     "output_type": "stream",
     "text": [
      "27\n",
      "27\n"
     ]
    }
   ],
   "source": [
    "#단순 계산 함수 만들어보기\n",
    "def total(a,b,c,d) :\n",
    "    z=a+b+c+d\n",
    "    print(z)\n",
    "\n",
    "\n",
    "total(4,6,8,9) \n",
    "total(d=9,c=8,b=6,a=4)   "
   ]
  },
  {
   "cell_type": "code",
   "execution_count": null,
   "id": "1398539a",
   "metadata": {},
   "outputs": [
    {
     "name": "stdout",
     "output_type": "stream",
     "text": [
      "30\n",
      "300\n",
      "112\n"
     ]
    }
   ],
   "source": [
    "def plus(x,y):\n",
    "    z=x+y\n",
    "    return z\n",
    "\n",
    "#return z 가 있기 떄문에 plus(10,20)  값이 10+20을 한 z 값으로 대체된다\n",
    "a=plus(10,20)\n",
    "print(a)\n",
    "\n",
    "\n",
    "print(plus(100,200))\n",
    "\n",
    "\n",
    "b=plus(5,7) + 100\n",
    "print(b)"
   ]
  },
  {
   "cell_type": "code",
   "execution_count": null,
   "id": "d4a9f2e0",
   "metadata": {},
   "outputs": [
    {
     "data": {
      "text/plain": [
       "0"
      ]
     },
     "execution_count": 94,
     "metadata": {},
     "output_type": "execute_result"
    }
   ],
   "source": [
    "def foo(x,y):\n",
    "    return 0\n",
    "    z=x+y\n",
    "    print(z)\n",
    "\n",
    "foo(1,2)"
   ]
  },
  {
   "cell_type": "code",
   "execution_count": null,
   "id": "60d24d6f",
   "metadata": {},
   "outputs": [
    {
     "name": "stdout",
     "output_type": "stream",
     "text": [
      "3\n"
     ]
    },
    {
     "data": {
      "text/plain": [
       "3"
      ]
     },
     "execution_count": 97,
     "metadata": {},
     "output_type": "execute_result"
    }
   ],
   "source": [
    "def foo(x,y):\n",
    "    z=x+y\n",
    "    print(z)\n",
    "    return z\n",
    "\n",
    "foo(1,2)"
   ]
  },
  {
   "cell_type": "code",
   "execution_count": null,
   "id": "ac3f72d4",
   "metadata": {},
   "outputs": [
    {
     "name": "stdout",
     "output_type": "stream",
     "text": [
      "5\n",
      "102\n"
     ]
    }
   ],
   "source": [
    "def solution(num1,num2):\n",
    "    answer=num1+num2\n",
    "    return answer\n",
    "    \n",
    "print(solution(2,3))\n",
    "print(solution(100,2))\n"
   ]
  },
  {
   "cell_type": "code",
   "execution_count": null,
   "id": "bff8d893",
   "metadata": {},
   "outputs": [],
   "source": [
    "def solution(num1,num2):\n",
    "    answer=num1-num2\n",
    "    return answer "
   ]
  },
  {
   "cell_type": "code",
   "execution_count": null,
   "id": "7f3a4f46",
   "metadata": {},
   "outputs": [
    {
     "name": "stdout",
     "output_type": "stream",
     "text": [
      "-1\n"
     ]
    }
   ],
   "source": [
    "def solution(num1,num2):\n",
    "    answer=num1-num2\n",
    "    return answer \n",
    "\n",
    "print(solution(2,3))"
   ]
  },
  {
   "cell_type": "code",
   "execution_count": null,
   "id": "1319d928",
   "metadata": {},
   "outputs": [
    {
     "name": "stdout",
     "output_type": "stream",
     "text": [
      "2333\n"
     ]
    }
   ],
   "source": [
    "def solution(num1,num2):\n",
    "    answer=round((num1/num2)*1000)\n",
    "    return answer \n",
    "\n",
    "print(solution(7,3))"
   ]
  },
  {
   "cell_type": "markdown",
   "id": "56353129",
   "metadata": {},
   "source": [
    "### if 조건문"
   ]
  },
  {
   "cell_type": "code",
   "execution_count": null,
   "id": "1477bbc8",
   "metadata": {},
   "outputs": [
    {
     "name": "stdout",
     "output_type": "stream",
     "text": [
      "a는 100보다 크거가 같습니다\n",
      "그러므로 이 부분은 출력됩니다\n"
     ]
    }
   ],
   "source": [
    "a=100\n",
    "if a >= 100:\n",
    "    print(\"a는 100보다 크기가 같습니다\")\n",
    "    print(\"그러므로 이 부분은 출력됩니다\")"
   ]
  },
  {
   "cell_type": "code",
   "execution_count": null,
   "id": "c652c0ad",
   "metadata": {},
   "outputs": [
    {
     "name": "stdout",
     "output_type": "stream",
     "text": [
      "시험시작\n",
      "합격입니다\n",
      "시험끝\n"
     ]
    }
   ],
   "source": [
    "print(\"시험시작\")\n",
    "score=int((input(\"시험 점수를 입력하세요\")))\n",
    "if score >=60:\n",
    "    print(\"합격입니다\")\n",
    "print(\"시험끝\")"
   ]
  },
  {
   "cell_type": "code",
   "execution_count": null,
   "id": "fdd6e6bb",
   "metadata": {},
   "outputs": [
    {
     "name": "stdout",
     "output_type": "stream",
     "text": [
      "택시를 타서\n",
      "집에 가요\n"
     ]
    }
   ],
   "source": [
    "money=100\n",
    "if money:\n",
    "    print(\"택시를 타서\")\n",
    "print(\"집에 가요\")"
   ]
  },
  {
   "cell_type": "code",
   "execution_count": null,
   "id": "44fd755f",
   "metadata": {},
   "outputs": [
    {
     "name": "stdout",
     "output_type": "stream",
     "text": [
      "프로그래밍\n"
     ]
    }
   ],
   "source": [
    "name = ''\n",
    "if name:\n",
    "    print(name)\n",
    "print(\"프로그래밍\")"
   ]
  },
  {
   "cell_type": "code",
   "execution_count": null,
   "id": "b34771d3",
   "metadata": {},
   "outputs": [
    {
     "name": "stdout",
     "output_type": "stream",
     "text": [
      "20살이 아닙니다\n",
      "성인 입니다\n"
     ]
    }
   ],
   "source": [
    "myage = int(input(\"나이를 입력하세요\"))\n",
    "\n",
    "if myage == 20:\n",
    "    print(\"20살 입니다\")\n",
    "\n",
    "if myage != 20 :\n",
    "    print(\"20살이 아닙니다\")\n",
    "\n",
    "if myage>19:\n",
    "    print(\"성인 입니다\")\n",
    "\n",
    "if myage <= 19:\n",
    "    print(\"청소년입니다\")                  \n",
    "                  \n",
    "\n"
   ]
  },
  {
   "cell_type": "code",
   "execution_count": null,
   "id": "321b6bde",
   "metadata": {},
   "outputs": [
    {
     "name": "stdout",
     "output_type": "stream",
     "text": [
      "c학점 입니다\n"
     ]
    }
   ],
   "source": [
    "point=int(input(\"점수를 입력하세요\"))\n",
    "\n",
    "if point > 70 and point < 80:\n",
    "    print(\"c학점 입니다\")\n",
    "\n",
    "if point <= 70 or point > 80:\n",
    "    print(\"c학점이 아닙니다\")\n"
   ]
  },
  {
   "cell_type": "code",
   "execution_count": null,
   "id": "18710bdb",
   "metadata": {},
   "outputs": [
    {
     "name": "stdout",
     "output_type": "stream",
     "text": [
      "한국사람이 아닙니다\n",
      "한국사람이 아닙니다\n",
      "한국사람이 아닙니다\n"
     ]
    }
   ],
   "source": [
    "isKorean=False\n",
    "\n",
    "\n",
    "if isKorean == True:\n",
    "    print(\"한국사람입니다\")\n",
    "\n",
    "if isKorean == False:\n",
    "    print(\"한국사람이 아닙니다\")\n",
    "\n",
    "\n",
    "if isKorean != True:\n",
    "    print(\"한국사람이 아닙니다\")\n",
    "\n",
    "\n",
    "if isKorean !=False:\n",
    "    print(\"한국사람입니다\")\n",
    "\n",
    "if isKorean:\n",
    "    print(\"한국사람입니다\")\n",
    "\n",
    "if not isKorean:\n",
    "    print(\"한국사람이 아닙니다\")"
   ]
  },
  {
   "cell_type": "code",
   "execution_count": null,
   "id": "8e68af3f",
   "metadata": {},
   "outputs": [
    {
     "name": "stdout",
     "output_type": "stream",
     "text": [
      "시험시작\n",
      "합격입니다\n",
      "시험 끝\n"
     ]
    }
   ],
   "source": [
    "print(\"시험시작\")\n",
    "\n",
    "score = int(input(\"점수를 입력하세요\"))\n",
    "\n",
    "if score >= 60:\n",
    "    print(\"합격입니다\")\n",
    "\n",
    "else:\n",
    "    print(\"불합격입니다\")\n",
    "print(\"시험 끝\")"
   ]
  },
  {
   "cell_type": "code",
   "execution_count": null,
   "id": "060185ef",
   "metadata": {},
   "outputs": [
    {
     "name": "stdout",
     "output_type": "stream",
     "text": [
      "한국 사람 입니다\n",
      "한국 사람 입니다\n"
     ]
    }
   ],
   "source": [
    "answer = input(\"한국인입니까? (Y/N)\")\n",
    "\n",
    "if answer == \"Y\":\n",
    "    isKorean = True\n",
    "\n",
    "else:\n",
    "    isKorean=False\n",
    "\n",
    "\n",
    "if isKorean:\n",
    "    print(\"한국 사람 입니다\")\n",
    "\n",
    "else:\n",
    "    print(\"한국 사람이 아닙니다\")\n",
    "\n",
    "\n",
    "if not isKorean:\n",
    "    print(\"한국 사람이 아닙니다\")\n",
    "\n",
    "else:\n",
    "    print(\"한국 사람 입니다\")"
   ]
  },
  {
   "cell_type": "code",
   "execution_count": null,
   "id": "71e6e317",
   "metadata": {},
   "outputs": [
    {
     "name": "stdout",
     "output_type": "stream",
     "text": [
      "시험 시작\n",
      "F학점\n",
      "시험 끝\n"
     ]
    }
   ],
   "source": [
    "print (\"시험 시작\")\n",
    "\n",
    "\n",
    "point=int(input(\"점수를 입력하세요\"))\n",
    "\n",
    "if point > 90:\n",
    "    print(\"A학점\")\n",
    "\n",
    "elif point > 80:\n",
    "    print(\"B학점\")\n",
    "\n",
    "elif point > 70:\n",
    "    print(\"C학점\")\n",
    "\n",
    "else:\n",
    "    print(\"F학점\")\n",
    "print(\"시험 끝\")"
   ]
  },
  {
   "cell_type": "markdown",
   "id": "7b0aa06b",
   "metadata": {},
   "source": [
    "## while 반복문"
   ]
  },
  {
   "cell_type": "code",
   "execution_count": null,
   "id": "054e8cd7",
   "metadata": {},
   "outputs": [
    {
     "name": "stdout",
     "output_type": "stream",
     "text": [
      "x= 1\n",
      "x= 2\n",
      "x= 3\n",
      "x= 4\n",
      "x= 5\n",
      "x= 6\n",
      "x= 7\n",
      "x= 8\n",
      "x= 9\n",
      "x= 10\n",
      "x의 최종값 11\n"
     ]
    }
   ],
   "source": [
    "x=1  #초기식\n",
    "while x <= 10:   #조건식\n",
    "    print(\"x=\",x)\n",
    "    x +=1   #증감식\n",
    "print(\"x의 최종값\" ,x)"
   ]
  },
  {
   "cell_type": "code",
   "execution_count": null,
   "id": "a08e34b1",
   "metadata": {},
   "outputs": [
    {
     "name": "stdout",
     "output_type": "stream",
     "text": [
      "8 X 1 = 8\n",
      "8 X 2 = 16\n",
      "8 X 3 = 24\n",
      "8 X 4 = 32\n",
      "8 X 5 = 40\n",
      "8 X 6 = 48\n",
      "8 X 7 = 56\n",
      "8 X 8 = 64\n",
      "8 X 9 = 72\n"
     ]
    }
   ],
   "source": [
    "x=int(input(\"구구단을 구해보자\"))\n",
    "\n",
    "y=1\n",
    "while y<10:\n",
    "    z=x*y\n",
    "    print(x,\"X\",y,'=',z)\n",
    "    y+=1"
   ]
  },
  {
   "cell_type": "code",
   "execution_count": null,
   "id": "88179b48",
   "metadata": {},
   "outputs": [
    {
     "name": "stdout",
     "output_type": "stream",
     "text": [
      "x= 1 -> sum= 1\n",
      "x= 2 -> sum= 3\n",
      "x= 3 -> sum= 6\n",
      "x= 4 -> sum= 10\n",
      "x= 5 -> sum= 15\n",
      "x= 6 -> sum= 21\n",
      "x= 7 -> sum= 28\n",
      "x= 8 -> sum= 36\n",
      "x= 9 -> sum= 45\n",
      "x= 10 -> sum= 55\n"
     ]
    }
   ],
   "source": [
    "#1~10 까지의총 합을 구해보자\n",
    "x=1 #초기식\n",
    "sum=0 #총 합을 누적해서 저장할 변수\n",
    "while x <= 10:   #조건식 > x 가 10보다 작거나 같은 동안 반복 수행\n",
    "    sum+=x\n",
    "    print(\"x=\",x,'-> sum=',sum)\n",
    "    x+=1   # 증감식 , 조건에 사용되는 값을 변경합니다"
   ]
  },
  {
   "cell_type": "code",
   "execution_count": null,
   "id": "7e300c9a",
   "metadata": {},
   "outputs": [
    {
     "name": "stdout",
     "output_type": "stream",
     "text": [
      "x= 1\n",
      "x= 2\n",
      "x= 3\n",
      "x= 4\n",
      "x= 5\n",
      "x= 6\n",
      "x= 7\n",
      "x= 8\n",
      "x= 9\n",
      "x= 10\n"
     ]
    }
   ],
   "source": [
    "x=1\n",
    "while x<=10:\n",
    "    print(\"x=\",x)\n",
    "    x+=1"
   ]
  },
  {
   "cell_type": "code",
   "execution_count": null,
   "id": "711787cd",
   "metadata": {},
   "outputs": [
    {
     "name": "stdout",
     "output_type": "stream",
     "text": [
      "8 x 1 = 8\n",
      "8 x 2 = 16\n",
      "8 x 3 = 24\n",
      "8 x 4 = 32\n",
      "8 x 5 = 40\n",
      "8 x 6 = 48\n",
      "8 x 7 = 56\n",
      "8 x 8 = 64\n",
      "8 x 9 = 72\n"
     ]
    }
   ],
   "source": [
    "f=int(input('구구단을 만들 숫자를 입력해주세요!'))\n",
    "\n",
    "y=1\n",
    "while y<10:\n",
    "    z=f*y\n",
    "    print(f,'x',y,'=',z)\n",
    "    y+=1"
   ]
  },
  {
   "cell_type": "code",
   "execution_count": null,
   "id": "e43049e5",
   "metadata": {},
   "outputs": [
    {
     "name": "stdout",
     "output_type": "stream",
     "text": [
      "x= 1 ->sum = 1\n",
      "x= 2 ->sum = 3\n",
      "x= 3 ->sum = 6\n",
      "x= 4 ->sum = 10\n",
      "x= 5 ->sum = 15\n",
      "x= 6 ->sum = 21\n",
      "x= 7 ->sum = 28\n",
      "x= 8 ->sum = 36\n",
      "x= 9 ->sum = 45\n",
      "x= 10 ->sum = 55\n"
     ]
    }
   ],
   "source": [
    "#1부터 10까지의 총 합을 구해보자\n",
    "x=1 #초기식\n",
    "sum=0 #총합을 누적해서 저장할 변수\n",
    "while x<=10:\n",
    "    sum+=x\n",
    "    print('x=',x,'->sum =', sum)\n",
    "    x+=1\n",
    "\n"
   ]
  },
  {
   "cell_type": "markdown",
   "id": "486bb838",
   "metadata": {},
   "source": [
    "## for 반복문"
   ]
  },
  {
   "cell_type": "code",
   "execution_count": null,
   "id": "e4aee2ca",
   "metadata": {},
   "outputs": [
    {
     "name": "stdout",
     "output_type": "stream",
     "text": [
      "x= 1\n",
      "x= 2\n",
      "x= 3\n",
      "x= 4\n",
      "x= 5\n",
      "x= 6\n",
      "x= 7\n",
      "x= 8\n",
      "x= 9\n",
      "x= 10\n",
      "x의 최종값= 10\n"
     ]
    }
   ],
   "source": [
    "for x in range(1,11):\n",
    "    print('x=',x)\n",
    "\n",
    "\n",
    "print('x의 최종값=',x)"
   ]
  },
  {
   "cell_type": "code",
   "execution_count": null,
   "id": "02625550",
   "metadata": {},
   "outputs": [
    {
     "name": "stdout",
     "output_type": "stream",
     "text": [
      "8 x 1 = 8\n",
      "8 x 2 = 16\n",
      "8 x 3 = 24\n",
      "8 x 4 = 32\n",
      "8 x 5 = 40\n",
      "8 x 6 = 48\n",
      "8 x 7 = 56\n",
      "8 x 8 = 64\n",
      "8 x 9 = 72\n"
     ]
    }
   ],
   "source": [
    "x=int(input('숫자를 입력하세요'))\n",
    "for y in range(1,10):\n",
    "    z=x*y\n",
    "    print(x,'x',y,'=',z)"
   ]
  },
  {
   "cell_type": "code",
   "execution_count": null,
   "id": "caaddafd",
   "metadata": {},
   "outputs": [
    {
     "name": "stdout",
     "output_type": "stream",
     "text": [
      "x= 1 ->sum 1\n",
      "x= 2 ->sum 3\n",
      "x= 3 ->sum 6\n",
      "x= 4 ->sum 10\n",
      "x= 5 ->sum 15\n",
      "x= 6 ->sum 21\n",
      "x= 7 ->sum 28\n",
      "x= 8 ->sum 36\n",
      "x= 9 ->sum 45\n",
      "x= 10 ->sum 55\n"
     ]
    }
   ],
   "source": [
    "sum=0\n",
    "\n",
    "for x in range(1,11):\n",
    "    sum+= x\n",
    "    print('x=',x,'->sum',sum)"
   ]
  },
  {
   "cell_type": "code",
   "execution_count": null,
   "id": "6276204c",
   "metadata": {},
   "outputs": [
    {
     "name": "stdout",
     "output_type": "stream",
     "text": [
      "0\n",
      "10\n",
      "20\n",
      "30\n",
      "40\n"
     ]
    }
   ],
   "source": [
    "for a in range (0,50,10):\n",
    "    print(a)"
   ]
  },
  {
   "cell_type": "code",
   "execution_count": null,
   "id": "1f349bad",
   "metadata": {},
   "outputs": [
    {
     "name": "stdout",
     "output_type": "stream",
     "text": [
      "10\n",
      "8\n",
      "6\n",
      "4\n",
      "2\n"
     ]
    }
   ],
   "source": [
    "for a in range(10,0,-2):\n",
    "    print(a)"
   ]
  },
  {
   "cell_type": "code",
   "execution_count": null,
   "id": "43b4c59f",
   "metadata": {},
   "outputs": [
    {
     "name": "stdout",
     "output_type": "stream",
     "text": [
      "x= 1\n",
      "x= 2\n",
      "x= 3\n",
      "x= 4\n",
      "x= 5\n",
      "x= 6\n",
      "x= 7\n",
      "x= 8\n",
      "x= 9\n",
      "x= 10\n",
      "===========\n",
      "x= 1\n",
      "x= 2\n",
      "x= 3\n",
      "x= 4\n",
      "x= 5\n",
      "x= 6\n",
      "x= 7\n",
      "x= 8\n",
      "x= 9\n",
      "x= 10\n"
     ]
    }
   ],
   "source": [
    "#for 문을 활용해서 1부터 10 까지 출력하기\n",
    "for x in range (1,11):\n",
    "    print('x=',x)\n",
    "\n",
    "\n",
    "print(\"===========\")\n",
    "#while 문을 활용해서 1부터 10까지 출력하기\n",
    "x=1\n",
    "while x <=10 :\n",
    "    print('x=',x)\n",
    "    x+=1     #증감식 까먹지 않고 꼭 써주기\n"
   ]
  },
  {
   "cell_type": "code",
   "execution_count": null,
   "id": "911fe065",
   "metadata": {},
   "outputs": [
    {
     "name": "stdout",
     "output_type": "stream",
     "text": [
      "4 x 1 = 4\n",
      "4 x 2 = 8\n",
      "4 x 3 = 12\n",
      "4 x 4 = 16\n",
      "4 x 5 = 20\n",
      "4 x 6 = 24\n",
      "4 x 7 = 28\n",
      "4 x 8 = 32\n",
      "4 x 9 = 36\n",
      "========\n",
      "4 x 2 = 4\n",
      "4 x 3 = 8\n",
      "4 x 4 = 12\n",
      "4 x 5 = 16\n",
      "4 x 6 = 20\n",
      "4 x 7 = 24\n",
      "4 x 8 = 28\n",
      "4 x 9 = 32\n",
      "4 x 10 = 36\n",
      "4 x 11 = 40\n"
     ]
    }
   ],
   "source": [
    "#for 문을 활용해서 구구단 출력하기\n",
    "\n",
    "y=int(input(\"구구단에 쓸 숫자를 입력해주세요!\"))\n",
    "for f in range (1,10):\n",
    "    z=y*f\n",
    "    print(y,\"x\",f,'=',z)\n",
    "\n",
    "\n",
    "print(\"========\")\n",
    "#while 문을 이용해서 구구단 출력하기\n",
    "\n",
    "u=1\n",
    "while u <=10:\n",
    "    z=y*u\n",
    "    u+=1\n",
    "    print(y,'x',u,'=',z)\n",
    "\n",
    "\n"
   ]
  }
 ],
 "metadata": {
  "kernelspec": {
   "display_name": "Python 3",
   "language": "python",
   "name": "python3"
  },
  "language_info": {
   "codemirror_mode": {
    "name": "ipython",
    "version": 3
   },
   "file_extension": ".py",
   "mimetype": "text/x-python",
   "name": "python",
   "nbconvert_exporter": "python",
   "pygments_lexer": "ipython3",
   "version": "3.13.9"
  }
 },
 "nbformat": 4,
 "nbformat_minor": 5
}
