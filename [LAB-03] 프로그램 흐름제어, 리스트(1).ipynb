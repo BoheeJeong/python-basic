{
 "cells": [
  {
   "cell_type": "markdown",
   "id": "ea3850ae",
   "metadata": {},
   "source": [
    "# LAB 03 - 프로그램 흐름 제어 / 리스트 기초"
   ]
  },
  {
   "cell_type": "markdown",
   "id": "2838f257",
   "metadata": {},
   "source": [
    "## 프로그램 흐름제어 | 중첩 조건문 이해하기"
   ]
  },
  {
   "cell_type": "code",
   "execution_count": 3,
   "id": "26c9267b",
   "metadata": {},
   "outputs": [
    {
     "name": "stdout",
     "output_type": "stream",
     "text": [
      "합격입니다\n",
      "학점은 B 입니다\n"
     ]
    }
   ],
   "source": [
    "#점수를 받아서 패스와 불합격을 나누고, 패스일 때의 학점을 세부적으로 분류해보자\n",
    "\n",
    "\n",
    "point=int(input(\"점수를 입력해주세요!\"))\n",
    "\n",
    "if point > 80 :\n",
    "    print(\"합격입니다\")\n",
    "    if point > 95 :\n",
    "        print(\"학점은 A 입니다\")\n",
    "    elif point>85:\n",
    "        print(\"학점은 B 입니다\")\n",
    "else:\n",
    "    print(\"불합격 입니다\")"
   ]
  },
  {
   "cell_type": "code",
   "execution_count": 4,
   "id": "f8a14156",
   "metadata": {},
   "outputs": [
    {
     "name": "stdout",
     "output_type": "stream",
     "text": [
      "1 =홀수\n",
      "2 =짝수\n",
      "3 =홀수\n",
      "4 =짝수\n",
      "5 =홀수\n",
      "6 =짝수\n",
      "7 =홀수\n",
      "8 =짝수\n",
      "짝수들의 합 20\n",
      "홀수들의 합 16\n"
     ]
    }
   ],
   "source": [
    "#짝수와 홀수의 합을 구해보자\n",
    "\n",
    "number=int((input(\"숫자를 입력해보세요\")))\n",
    "\n",
    "x=0\n",
    "y=0\n",
    "\n",
    "\n",
    "for i in range(1,number+1):\n",
    "    if i%2 ==0:\n",
    "        print(i,\"=짝수\")\n",
    "        x+=i\n",
    "    else:\n",
    "        print(i,\"=홀수\")\n",
    "        y+=i\n",
    "\n",
    "\n",
    "print(\"짝수들의 합\",x)\n",
    "print(\"홀수들의 합\",y)"
   ]
  },
  {
   "cell_type": "code",
   "execution_count": 5,
   "id": "66909b9d",
   "metadata": {},
   "outputs": [
    {
     "name": "stdout",
     "output_type": "stream",
     "text": [
      "*\n",
      "**\n",
      "***\n",
      "****\n",
      "*****\n"
     ]
    }
   ],
   "source": [
    "for i in range (0,5):\n",
    "    star=\"\"\n",
    "\n",
    "    for j in range(0,i+1):\n",
    "        star += \"*\"\n",
    "\n",
    "    print(star)"
   ]
  },
  {
   "cell_type": "code",
   "execution_count": 6,
   "id": "2c11b6f8",
   "metadata": {},
   "outputs": [
    {
     "name": "stdout",
     "output_type": "stream",
     "text": [
      "*****\n",
      "*****\n",
      "*****\n",
      "*****\n",
      "*****\n"
     ]
    }
   ],
   "source": [
    "for i in range (0,5):\n",
    "    star=\"\"\n",
    "\n",
    "    for j in range(0,i+1):\n",
    "        star = \"*****\"\n",
    "\n",
    "    print(star)"
   ]
  },
  {
   "cell_type": "code",
   "execution_count": 7,
   "id": "5f58d4ce",
   "metadata": {},
   "outputs": [
    {
     "name": "stdout",
     "output_type": "stream",
     "text": [
      "15\n",
      "30\n",
      "45\n",
      "60\n",
      "75\n",
      "90\n"
     ]
    }
   ],
   "source": [
    "x=3\n",
    "y=5\n",
    "\n",
    "for i in range(1,101):\n",
    "    if i% x==0 and i%y ==0:\n",
    "        print(i)"
   ]
  },
  {
   "cell_type": "code",
   "execution_count": 8,
   "id": "e939b88f",
   "metadata": {},
   "outputs": [
    {
     "name": "stdout",
     "output_type": "stream",
     "text": [
      "[98.82, 73, 64, 100]\n",
      "['철수', 167, 72, '남자', True]\n"
     ]
    }
   ],
   "source": [
    "#5명의 학생에 대한 성적 나열\n",
    "grade = [98.82,73,64,100]\n",
    "print(grade)\n",
    "\n",
    "#각 학생의 이름에 대한 나열\n",
    "names=['철수','영희','나영','민식','호영']\n",
    "\n",
    "#서로 다른 데이터 타입들 함께 사용 가능\n",
    "student=['철수',167,72,\"남자\",True]\n",
    "print(student)"
   ]
  },
  {
   "cell_type": "code",
   "execution_count": 9,
   "id": "8b127afb",
   "metadata": {},
   "outputs": [
    {
     "name": "stdout",
     "output_type": "stream",
     "text": [
      "74\n",
      "163\n"
     ]
    }
   ],
   "source": [
    "buxi =[63,74,24]\n",
    "\n",
    "#리스트로부터 원소 추출해내기\n",
    "print(buxi[1])\n",
    "print(100+buxi[0])"
   ]
  },
  {
   "cell_type": "code",
   "execution_count": 10,
   "id": "93267d7f",
   "metadata": {},
   "outputs": [
    {
     "name": "stdout",
     "output_type": "stream",
     "text": [
      "[100, 200, 300]\n",
      "[150, 180, 600]\n"
     ]
    }
   ],
   "source": [
    "#리스트 안에 있는 값은 새로 정의해서 변경할 수도 있음\n",
    "\n",
    "mydata =[100,200,300]\n",
    "print(mydata)\n",
    "\n",
    "mydata[0] = 150\n",
    "mydata[1]=mydata[1]-20\n",
    "mydata[2]+=300\n",
    "\n",
    "\n",
    "print(mydata)"
   ]
  },
  {
   "cell_type": "code",
   "execution_count": 11,
   "id": "49b29b83",
   "metadata": {},
   "outputs": [
    {
     "name": "stdout",
     "output_type": "stream",
     "text": [
      "[1, 2, 3, 4, 5]\n",
      "[10, 20, 30, 10, 20, 30, 10, 20, 30]\n"
     ]
    }
   ],
   "source": [
    "#리스트의 덧셈\n",
    "#리스트를 더하면 내부 항목들이 이어져서 붙여지는 개념\n",
    "a=[1,2,3]\n",
    "b=[4,5]\n",
    "c=a+b\n",
    "print(c)\n",
    "\n",
    "\n",
    "\n",
    "#리스트의 곱셈\n",
    "d=[10,20,30]\n",
    "e=d*3\n",
    "print(e)"
   ]
  },
  {
   "cell_type": "code",
   "execution_count": 12,
   "id": "2927bae2",
   "metadata": {},
   "outputs": [
    {
     "name": "stdout",
     "output_type": "stream",
     "text": [
      "[160, 35, 60]\n",
      "[163, 40, 70]\n",
      "[160, 35, 60, 163, 40, 70]\n",
      "[160, 35, 60, 160, 35, 60, 160, 35, 60]\n"
     ]
    }
   ],
   "source": [
    "\n",
    "bohee=[160,35,60]\n",
    "gyehong=[163,40,70]\n",
    "print(bohee)\n",
    "print(gyehong)\n",
    "\n",
    "\n",
    "print(bohee+gyehong)\n",
    "print(bohee*3)\n",
    "\n"
   ]
  },
  {
   "cell_type": "code",
   "execution_count": 13,
   "id": "f2078cb0",
   "metadata": {},
   "outputs": [
    {
     "name": "stdout",
     "output_type": "stream",
     "text": [
      "[['나래', 98], ['요니', 80], ['예지', 40]]\n",
      "[['나래', 98], ['요니', 99], ['예지', 99]]\n"
     ]
    }
   ],
   "source": [
    "student1=['나래',98]\n",
    "student2=['요니',80]\n",
    "student3=['예지',40]\n",
    "\n",
    "\n",
    "student_group = [student1,student2,student3]\n",
    "print(student_group)\n",
    "\n",
    "student_group2=[\n",
    "        ['나래',98],\n",
    "        ['요니',99],\n",
    "        ['예지',99]\n",
    "]\n",
    "\n",
    "print(student_group2)"
   ]
  },
  {
   "cell_type": "code",
   "execution_count": 14,
   "id": "368550b7",
   "metadata": {},
   "outputs": [
    {
     "name": "stdout",
     "output_type": "stream",
     "text": [
      "['요니', 80]\n",
      "80\n"
     ]
    }
   ],
   "source": [
    "print(student_group[1])\n",
    "print(student_group[1][1])"
   ]
  },
  {
   "cell_type": "code",
   "execution_count": 15,
   "id": "c965a009",
   "metadata": {},
   "outputs": [
    {
     "name": "stdout",
     "output_type": "stream",
     "text": [
      "이름: 요니 키: 160 몸무게: 43\n",
      "이름: 뿌시 키: 162 몸무게: 60\n",
      "이름: 나라 키: 164 몸무게: 50\n"
     ]
    }
   ],
   "source": [
    "friends =[\n",
    "       ['요니',160,43],\n",
    "       ['뿌시',162,60], \n",
    "       ['나라',164,50],\n",
    "]\n",
    "\n",
    "\n",
    "print('이름:',friends[0][0],'키:',friends[0][1],'몸무게:',friends[0][2])\n",
    "print('이름:',friends[1][0],'키:',friends[1][1],'몸무게:',friends[1][2])\n",
    "print('이름:',friends[2][0],'키:',friends[2][1],'몸무게:',friends[2][2])\n",
    "\n",
    "\n"
   ]
  },
  {
   "cell_type": "code",
   "execution_count": 16,
   "id": "562b83e0",
   "metadata": {},
   "outputs": [
    {
     "name": "stdout",
     "output_type": "stream",
     "text": [
      "[60, 70, 80, 90]\n"
     ]
    }
   ],
   "source": [
    "score=[60,70,80,90,100]\n",
    "\n",
    "print(score[:4])"
   ]
  },
  {
   "cell_type": "code",
   "execution_count": 17,
   "id": "516f07ec",
   "metadata": {},
   "outputs": [
    {
     "name": "stdout",
     "output_type": "stream",
     "text": [
      "[1, 2, 20, 30, 40, 4, 5]\n"
     ]
    }
   ],
   "source": [
    "foo=[1,2,3,4,5]\n",
    "\n",
    "foo[2:3] =[20,30,40]\n",
    "print(foo)"
   ]
  },
  {
   "cell_type": "code",
   "execution_count": 18,
   "id": "8e52d80f",
   "metadata": {},
   "outputs": [
    {
     "name": "stdout",
     "output_type": "stream",
     "text": [
      "100\n",
      "100\n"
     ]
    }
   ],
   "source": [
    "a=100\n",
    "b=a\n",
    "print(a)\n",
    "print(b)"
   ]
  },
  {
   "cell_type": "code",
   "execution_count": 19,
   "id": "d65d75bd",
   "metadata": {},
   "outputs": [
    {
     "name": "stdout",
     "output_type": "stream",
     "text": [
      "100\n",
      "200\n"
     ]
    }
   ],
   "source": [
    "b=200\n",
    "print(a)\n",
    "print(b)"
   ]
  },
  {
   "cell_type": "code",
   "execution_count": 20,
   "id": "a789fa89",
   "metadata": {},
   "outputs": [
    {
     "name": "stdout",
     "output_type": "stream",
     "text": [
      "[1, 2, 3]\n",
      "[1, 2, 3]\n"
     ]
    }
   ],
   "source": [
    "foo=[1,2,3]\n",
    "bar=foo\n",
    "print(foo)\n",
    "print(bar)"
   ]
  },
  {
   "cell_type": "code",
   "execution_count": 21,
   "id": "0d0b790b",
   "metadata": {},
   "outputs": [
    {
     "name": "stdout",
     "output_type": "stream",
     "text": [
      "[1, 20, 3]\n",
      "[1, 20, 3]\n"
     ]
    }
   ],
   "source": [
    "bar[1]=20\n",
    "print(foo)\n",
    "print(bar)"
   ]
  },
  {
   "cell_type": "code",
   "execution_count": 22,
   "id": "e96b2b4c",
   "metadata": {},
   "outputs": [
    {
     "name": "stdout",
     "output_type": "stream",
     "text": [
      "[100, 200, 300]\n",
      "[100, 12345, 300]\n"
     ]
    }
   ],
   "source": [
    "#슬라이싱을 활용한 방법\n",
    "hello =[100,200,300]\n",
    "cp2=hello[:]\n",
    "\n",
    "#복사본을 변경하더라도 원본에 영향이 없음\n",
    "cp2[1] =12345\n",
    "print(hello)\n",
    "print(cp2) \n",
    "\n",
    "\n"
   ]
  },
  {
   "cell_type": "code",
   "execution_count": 23,
   "id": "a29e5022",
   "metadata": {},
   "outputs": [
    {
     "name": "stdout",
     "output_type": "stream",
     "text": [
      "['hello', 'python', 'world']\n",
      "['nice', 'python', 'world']\n"
     ]
    }
   ],
   "source": [
    "#리스트 객체의 함수를 사용하는 방법\n",
    "world =[\"hello\",\"python\",\"world\"]\n",
    "cp3=world.copy()\n",
    "\n",
    "\n",
    "#복사본을 변경해도 원본에는 영향이 없음\n",
    "cp3[0]=\"nice\"\n",
    "print(world)\n",
    "print(cp3)"
   ]
  },
  {
   "cell_type": "code",
   "execution_count": 24,
   "id": "e66c0afe",
   "metadata": {},
   "outputs": [
    {
     "name": "stdout",
     "output_type": "stream",
     "text": [
      "2\n",
      "1\n"
     ]
    }
   ],
   "source": [
    "def divmod(a, b):\n",
    "    q = a // b  # 몫\n",
    "    r = a % b   # 나머지\n",
    "    return q, r # 튜플 형태로 반환됨\n",
    "\n",
    "x, y = divmod(7, 3)\n",
    "print(x)  # 2\n",
    "print(y)  # 1\n"
   ]
  },
  {
   "cell_type": "code",
   "execution_count": 25,
   "id": "f17a90c6",
   "metadata": {},
   "outputs": [
    {
     "name": "stdout",
     "output_type": "stream",
     "text": [
      "짝수--> 0\n",
      "홀수--> 1\n",
      "짝수--> 2\n",
      "홀수--> 3\n",
      "짝수--> 4\n",
      "홀수--> 5\n",
      "짝수--> 6\n",
      "홀수--> 7\n",
      "짝수--> 8\n",
      "홀수--> 9\n",
      "짝수--> 10\n",
      "홀수--> 11\n",
      "짝수--> 12\n",
      "홀수--> 13\n",
      "짝수--> 14\n",
      "홀수--> 15\n",
      "짝수--> 16\n",
      "홀수--> 17\n",
      "짝수--> 18\n",
      "홀수--> 19\n",
      "짝수--> 20\n",
      "홀수--> 21\n",
      "짝수--> 22\n",
      "홀수--> 23\n",
      "짝수--> 24\n",
      "홀수--> 25\n",
      "짝수--> 26\n",
      "홀수--> 27\n",
      "짝수--> 28\n",
      "홀수--> 29\n",
      "짝수--> 30\n",
      "홀수--> 31\n",
      "짝수--> 32\n",
      "홀수--> 33\n",
      "짝수--> 34\n",
      "홀수--> 35\n",
      "짝수--> 36\n",
      "홀수--> 37\n",
      "짝수--> 38\n",
      "홀수--> 39\n",
      "짝수--> 40\n",
      "홀수--> 41\n",
      "짝수--> 42\n",
      "홀수--> 43\n",
      "짝수--> 44\n",
      "홀수--> 45\n",
      "짝수--> 46\n",
      "홀수--> 47\n",
      "짝수--> 48\n",
      "홀수--> 49\n",
      "짝수--> 50\n",
      "홀수--> 51\n",
      "짝수--> 52\n",
      "홀수--> 53\n",
      "짝수--> 54\n",
      "홀수--> 55\n",
      "짝수--> 56\n",
      "홀수--> 57\n",
      "짝수--> 58\n",
      "홀수--> 59\n",
      "짝수--> 60\n",
      "홀수--> 61\n",
      "짝수--> 62\n",
      "홀수--> 63\n",
      "짝수--> 64\n",
      "홀수--> 65\n",
      "짝수의 합은 1056\n",
      "홀수의 합은 1089\n"
     ]
    }
   ],
   "source": [
    "#짝수와 홀수의 합을 구해보자\n",
    "\n",
    "\n",
    "#내가 구해야하는 것 : 내가 입력한 숫자에 대해서 하나씩 스캔하면서 짞수는 짝수끼리, 홀수는 홀수끼리 더해보자\n",
    "\n",
    "\n",
    "number = int(input(\"내가 합을 구하려는 숫자\"))\n",
    "\n",
    "x=0\n",
    "y=0\n",
    "\n",
    "for i in range (0,number+1):\n",
    "    if i%2 ==0:\n",
    "        print(\"짝수-->\",i)\n",
    "        x+=i\n",
    "    else:\n",
    "        print(\"홀수-->\",i)\n",
    "        y+=i\n",
    "\n",
    "\n",
    "print(\"짝수의 합은\" , x)\n",
    "print(\"홀수의 합은\",y)"
   ]
  },
  {
   "cell_type": "code",
   "execution_count": 26,
   "id": "d3675477",
   "metadata": {},
   "outputs": [
    {
     "name": "stdout",
     "output_type": "stream",
     "text": [
      "0\n",
      "======\n",
      "1\n",
      "======\n",
      "2\n",
      "======\n",
      "3\n",
      "======\n",
      "4\n"
     ]
    }
   ],
   "source": [
    "# 이번에는 0 ---- ,1 ---- , 2--- 를 반복해서 출력해보자\n",
    "\n",
    "\n",
    "for i in range (0,5):\n",
    "    print(i)\n",
    "\n",
    "    if(i+1<5):\n",
    "        print(\"======\")"
   ]
  },
  {
   "cell_type": "code",
   "execution_count": 27,
   "id": "c7eb4fc1",
   "metadata": {},
   "outputs": [
    {
     "name": "stdout",
     "output_type": "stream",
     "text": [
      "0\n",
      "15\n",
      "30\n",
      "45\n",
      "60\n",
      "75\n",
      "90\n"
     ]
    }
   ],
   "source": [
    "#3과 5의 공배수를 구해보자\n",
    "#우선 3과 5를 정의해주자\n",
    "\n",
    "x=3\n",
    "y=5\n",
    "\n",
    "for i in range (0,101):\n",
    "    if i%x==0 and i%y==0:\n",
    "        print(i)\n",
    "\n",
    "\n"
   ]
  },
  {
   "cell_type": "code",
   "execution_count": 28,
   "id": "4bc3d87e",
   "metadata": {},
   "outputs": [
    {
     "name": "stdout",
     "output_type": "stream",
     "text": [
      "1 x 1 = 1\n",
      "1 x 2 = 2\n",
      "1 x 3 = 3\n",
      "1 x 4 = 4\n",
      "1 x 5 = 5\n",
      "1 x 6 = 6\n",
      "1 x 7 = 7\n",
      "1 x 8 = 8\n",
      "1 x 9 = 9\n",
      "====\n",
      "2 x 1 = 2\n",
      "2 x 2 = 4\n",
      "2 x 3 = 6\n",
      "2 x 4 = 8\n",
      "2 x 5 = 10\n",
      "2 x 6 = 12\n",
      "2 x 7 = 14\n",
      "2 x 8 = 16\n",
      "2 x 9 = 18\n",
      "====\n",
      "3 x 1 = 3\n",
      "3 x 2 = 6\n",
      "3 x 3 = 9\n",
      "3 x 4 = 12\n",
      "3 x 5 = 15\n",
      "3 x 6 = 18\n",
      "3 x 7 = 21\n",
      "3 x 8 = 24\n",
      "3 x 9 = 27\n",
      "====\n",
      "4 x 1 = 4\n",
      "4 x 2 = 8\n",
      "4 x 3 = 12\n",
      "4 x 4 = 16\n",
      "4 x 5 = 20\n",
      "4 x 6 = 24\n",
      "4 x 7 = 28\n",
      "4 x 8 = 32\n",
      "4 x 9 = 36\n",
      "====\n",
      "5 x 1 = 5\n",
      "5 x 2 = 10\n",
      "5 x 3 = 15\n",
      "5 x 4 = 20\n",
      "5 x 5 = 25\n",
      "5 x 6 = 30\n",
      "5 x 7 = 35\n",
      "5 x 8 = 40\n",
      "5 x 9 = 45\n",
      "====\n",
      "6 x 1 = 6\n",
      "6 x 2 = 12\n",
      "6 x 3 = 18\n",
      "6 x 4 = 24\n",
      "6 x 5 = 30\n",
      "6 x 6 = 36\n",
      "6 x 7 = 42\n",
      "6 x 8 = 48\n",
      "6 x 9 = 54\n",
      "====\n",
      "7 x 1 = 7\n",
      "7 x 2 = 14\n",
      "7 x 3 = 21\n",
      "7 x 4 = 28\n",
      "7 x 5 = 35\n",
      "7 x 6 = 42\n",
      "7 x 7 = 49\n",
      "7 x 8 = 56\n",
      "7 x 9 = 63\n",
      "====\n",
      "8 x 1 = 8\n",
      "8 x 2 = 16\n",
      "8 x 3 = 24\n",
      "8 x 4 = 32\n",
      "8 x 5 = 40\n",
      "8 x 6 = 48\n",
      "8 x 7 = 56\n",
      "8 x 8 = 64\n",
      "8 x 9 = 72\n",
      "====\n",
      "9 x 1 = 9\n",
      "9 x 2 = 18\n",
      "9 x 3 = 27\n",
      "9 x 4 = 36\n",
      "9 x 5 = 45\n",
      "9 x 6 = 54\n",
      "9 x 7 = 63\n",
      "9 x 8 = 72\n",
      "9 x 9 = 81\n"
     ]
    }
   ],
   "source": [
    "#구구단을 외워보자\n",
    "#for 안에 for 가 있어야 하는 구조\n",
    "\n",
    "#내가 필요한 것 1) 곱할 숫자 2) 1-9 까지 3) 곱해진 결과값 4) 세가지에 대한 출력값\n",
    "\n",
    "\n",
    "for i in range(1,10):\n",
    "\n",
    "    for y in range(1,10):\n",
    "        z=i*y\n",
    "        print(i,\"x\",y,'=',z)\n",
    "\n",
    "    if (1+i < 10):\n",
    "        print('====')\n",
    "\n",
    "\n",
    "\n",
    "\n",
    "\n",
    "\n"
   ]
  },
  {
   "cell_type": "code",
   "execution_count": 29,
   "id": "32797bc2",
   "metadata": {},
   "outputs": [
    {
     "name": "stdout",
     "output_type": "stream",
     "text": [
      "*\n",
      "**\n",
      "***\n",
      "****\n",
      "*****\n"
     ]
    }
   ],
   "source": [
    "#별 찍기 문제\n",
    "for i in range(0,5):\n",
    "    star =\"\"\n",
    "\n",
    "    for j in range(0,i+1):\n",
    "        star += \"*\"\n",
    "\n",
    "    \n",
    "    print(star)\n",
    "\n"
   ]
  },
  {
   "cell_type": "code",
   "execution_count": 30,
   "id": "0cadf4c8",
   "metadata": {},
   "outputs": [
    {
     "name": "stdout",
     "output_type": "stream",
     "text": [
      "20\n",
      "37\n"
     ]
    }
   ],
   "source": [
    "#리스트에 있는 평균값과 총합 값을 구해보자\n",
    "\n",
    "a=[[80,20,64,74],[26,37,45,89]]\n",
    "\n",
    "for score in a:\n",
    "  print(score[1])"
   ]
  },
  {
   "cell_type": "code",
   "execution_count": 31,
   "id": "1832b348",
   "metadata": {},
   "outputs": [
    {
     "name": "stdout",
     "output_type": "stream",
     "text": [
      "254\n"
     ]
    }
   ],
   "source": [
    "a=254\n",
    "print(a)"
   ]
  }
 ],
 "metadata": {
  "kernelspec": {
   "display_name": "Python 3",
   "language": "python",
   "name": "python3"
  },
  "language_info": {
   "codemirror_mode": {
    "name": "ipython",
    "version": 3
   },
   "file_extension": ".py",
   "mimetype": "text/x-python",
   "name": "python",
   "nbconvert_exporter": "python",
   "pygments_lexer": "ipython3",
   "version": "3.13.9"
  }
 },
 "nbformat": 4,
 "nbformat_minor": 5
}
