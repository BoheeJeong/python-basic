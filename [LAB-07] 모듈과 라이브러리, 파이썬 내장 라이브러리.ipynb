{
 "cells": [
  {
   "cell_type": "markdown",
   "id": "1c55c1e0",
   "metadata": {},
   "source": [
    "# LAB-07 모듈과 라이브러리 , 파이썬 내장 라이브러리\n",
    "\n",
    "<학습내용>\n",
    "- 모듈과 라이브러리\n",
    "- 라이브러리 활용\n",
    "- 파일 폴더 관련 기능\n",
    "- 날짜 시간 관련 기능"
   ]
  },
  {
   "cell_type": "markdown",
   "id": "b507b56e",
   "metadata": {},
   "source": [
    "## 모듈과 라이브러리\n",
    "### 모듈 / 패키지 / 라이브러리\n",
    "\n",
    "위의 용어들은 재사용이 가능한 코드 조각이나 단위 기능, 즉 파일들을 의미함\n",
    "\n",
    "1.모듈\n",
    "  - 확장자가 .py 인 파이썬 코드가 들어있는 파일\n",
    "  - 하나의 파일 형태임\n",
    "  - 예를 들어 test.py 안에 solution 이라는 함수가 있으면 test.solution 으로 호출 가능\n",
    "\n",
    "2. 패키지\n",
    "  - 여러 모듈 파일들을 묶어둔 것\n",
    "  - __init__.py 파일도 포함\n",
    "\n",
    "3. 라이브러리 \n",
    "  - 여러 패키지와 모듈의 모음을 설치 가능한 형태로 묶어둔 것\n",
    "\n"
   ]
  },
  {
   "cell_type": "markdown",
   "id": "1b10dfb8",
   "metadata": {},
   "source": [
    "### MymMod1 모듈"
   ]
  },
  {
   "cell_type": "code",
   "execution_count": 151,
   "id": "e43f8c83",
   "metadata": {},
   "outputs": [
    {
     "name": "stdout",
     "output_type": "stream",
     "text": [
      "30\n",
      "-10\n"
     ]
    }
   ],
   "source": [
    "\n",
    "#함수를 포함하는 모듈\n",
    "def plus(a,b):\n",
    "  return a+b\n",
    "\n",
    "def minus(a,b):\n",
    "  return a-b\n",
    "\n",
    "# __name__ 과 __main__ 은 파이썬이 내부적으로 자동으로 지정한 특수한 시스템 변수\n",
    "# __name__ 현재 모듈의 이름 변수\n",
    "# __main__ 은 프로그램의 진입점 실행 시작 파일일 떄 __name__ 이 가지는 값\n",
    "\n",
    "#이 파일을 직접 실행했을 떄에만 실행하게 되는 테스트 코드\n",
    "\n",
    "if __name__ == \"__main__\":    \n",
    "  print(plus(10,20))\n",
    "  print(minus(10,20))\n"
   ]
  },
  {
   "cell_type": "markdown",
   "id": "1271d309",
   "metadata": {},
   "source": [
    "### MyMod2 모듈"
   ]
  },
  {
   "cell_type": "code",
   "execution_count": 152,
   "id": "69264b34",
   "metadata": {},
   "outputs": [
    {
     "name": "stdout",
     "output_type": "stream",
     "text": [
      "---------생성자가 실행되었습니다-------------\n",
      "이름 : hello / 이메일 :hello@naver.com\n"
     ]
    }
   ],
   "source": [
    "\n",
    "\n",
    "#간단한 클래스 정의하기\n",
    "class Member:\n",
    "  def __init__(self,username,email):\n",
    "    print(\"---------생성자가 실행되었습니다-------------\")\n",
    "    self.username=username\n",
    "    self.email=email\n",
    "\n",
    "  def view_info(self):\n",
    "    tpl=\"이름 : {0} / 이메일 :{1}\"\n",
    "    print(tpl.format(self.username,self.email))\n",
    "\n",
    "\n",
    "    #테스트 코드\n",
    "\n",
    "if __name__ == \"__main__\":\n",
    "  m= Member(\"hello\",\"hello@naver.com\")\n",
    "  m.view_info()\n",
    "\n",
    "\n"
   ]
  },
  {
   "cell_type": "markdown",
   "id": "a69ed779",
   "metadata": {},
   "source": [
    "### MyMod3 모듈"
   ]
  },
  {
   "cell_type": "code",
   "execution_count": 153,
   "id": "dc3c275d",
   "metadata": {},
   "outputs": [
    {
     "name": "stdout",
     "output_type": "stream",
     "text": [
      "30 -10\n"
     ]
    }
   ],
   "source": [
    "\n",
    "# 클래스에 대한 객체까지 포함하는 모듈\n",
    "\n",
    "# 두 가지 기능을 수행하는 클래스\n",
    "class Calc:\n",
    "  def plus(self,x,y):\n",
    "    return x+y\n",
    "  \n",
    "  def minus (self,x,y):\n",
    "    return x-y\n",
    "  \n",
    "\n",
    "  #모듈안에 클래스의 기능을 부여받은 객체 생성\n",
    "my_calc = Calc()\n",
    "\n",
    "#xptmxm zhem\n",
    "if __name__ == \"__main__\":\n",
    "  print(my_calc.plus(10,20),my_calc.minus(10,20))"
   ]
  },
  {
   "cell_type": "markdown",
   "id": "07c133e4",
   "metadata": {},
   "source": [
    "## 라이브러리 활용\n",
    "from 라이브러리 이름 import 모듈 이름\n",
    "\n",
    "- 다른 파일에서 작성된 기능을 현재 프로그램에서 활용할 수 있도록 가져온다\n",
    "- 모듈안에 포함된 기능을 활용하는 방식은 크게 세가지\n",
    "  1. 모듈 이름.함수 이름()\n",
    "  2. 변수 = 모듈 이름. 클래스 이름()\n",
    "  3. 모듈 이름.객체이름. 메서드()\n",
    "  "
   ]
  },
  {
   "cell_type": "markdown",
   "id": "eef3e531",
   "metadata": {},
   "source": [
    "### 함수를 포함하는 모듈 사용하기\n",
    "MyMod1 모듈을 참조하여 그 안에 정의되어 있는 함수를 호출한다"
   ]
  },
  {
   "cell_type": "code",
   "execution_count": 154,
   "id": "a825bce6",
   "metadata": {},
   "outputs": [
    {
     "name": "stdout",
     "output_type": "stream",
     "text": [
      "7\n",
      "-1\n"
     ]
    }
   ],
   "source": [
    "from mylibrary import MyMod1\n",
    "\n",
    "#참조된 파일에 정의된 함수는 파일이름.함수명 형식으로 접근\n",
    "print(MyMod1.plus(3,4))\n",
    "print(MyMod1.minus(3,4))"
   ]
  },
  {
   "cell_type": "markdown",
   "id": "652d9404",
   "metadata": {},
   "source": [
    "### 클래스가 정의되어 있는 모듈 참조하기\n",
    "클래스는 객체를 생성해야 사용할 수 있다"
   ]
  },
  {
   "cell_type": "code",
   "execution_count": 155,
   "id": "a2d8f951",
   "metadata": {},
   "outputs": [
    {
     "name": "stdout",
     "output_type": "stream",
     "text": [
      "---------생성자가 실행되었습니다-------------\n",
      "이름 : 파이썬 학생 / 이메일 :abd123@gmail.com\n"
     ]
    }
   ],
   "source": [
    "from mylibrary import MyMod2\n",
    "\n",
    "#MyMod2 모듈에 정의되어 있는 Member 클래스에 접근\n",
    "# 클래스에 생성자가 포함되어 있고 파라미터를 갖는 경우, 객체 생성시에 생성자 파라미터를 전달해야한다\n",
    "mem=MyMod2.Member('파이썬 학생','abd123@gmail.com')\n",
    "mem.view_info()"
   ]
  },
  {
   "cell_type": "markdown",
   "id": "da5463f2",
   "metadata": {},
   "source": [
    "### 객체가 할당되어 있는 모듈 참조하기\n",
    "모듈 파일 안에 이미 객체가 할당되어 있을 떄는 따로 객체를 생성할 필요가 없다"
   ]
  },
  {
   "cell_type": "code",
   "execution_count": 156,
   "id": "598a15d9",
   "metadata": {},
   "outputs": [
    {
     "name": "stdout",
     "output_type": "stream",
     "text": [
      "45\n",
      "15\n"
     ]
    }
   ],
   "source": [
    "from mylibrary import MyMod3\n",
    "\n",
    "print(MyMod3.my_calc.plus(30,15))\n",
    "print(MyMod3.my_calc.minus(30,15))"
   ]
  },
  {
   "cell_type": "markdown",
   "id": "ee16fcea",
   "metadata": {},
   "source": [
    "### 참조한 모듈에 별칭을 적용할 수 있다\n",
    "\n",
    "from 패키지 이름 import 모듈이름 as 별칭\n",
    "\n",
    "- 모듈 이름 대신 별칭을 통해서 모듈에 정의된 기능에 접근할 수 있다\n",
    "  1. 별칭.함수 이름()\n",
    "  2. 변수 = 별칭.클래스이름()\n",
    "  3. 모듈이름.별칭.메서드()"
   ]
  },
  {
   "cell_type": "markdown",
   "id": "2f2d5947",
   "metadata": {},
   "source": [
    "### 모듈에 별칭 적용하기\n",
    "별칭이름.함수() 형태로 접근한다"
   ]
  },
  {
   "cell_type": "code",
   "execution_count": 157,
   "id": "92858e36",
   "metadata": {},
   "outputs": [
    {
     "name": "stdout",
     "output_type": "stream",
     "text": [
      "7\n",
      "-1\n"
     ]
    }
   ],
   "source": [
    "from mylibrary import MyMod1 as hello\n",
    "\n",
    "print(hello.plus(3,4))\n",
    "print(hello.minus(3,4))\n"
   ]
  },
  {
   "cell_type": "markdown",
   "id": "48af48a3",
   "metadata": {},
   "source": [
    "### 클래스 모듈에 별칭 적용하기\n",
    "별칭이름.클래스() 형태로 객체에 할당한다"
   ]
  },
  {
   "cell_type": "code",
   "execution_count": 158,
   "id": "a353a619",
   "metadata": {},
   "outputs": [
    {
     "name": "stdout",
     "output_type": "stream",
     "text": [
      "---------생성자가 실행되었습니다-------------\n",
      "이름 : 파이썬 학생 / 이메일 :abc123@gmail.com\n"
     ]
    }
   ],
   "source": [
    "from mylibrary import MyMod2 as User\n",
    "\n",
    "mem=User.Member('파이썬 학생','abc123@gmail.com')\n",
    "mem.view_info()"
   ]
  },
  {
   "cell_type": "markdown",
   "id": "61896fd2",
   "metadata": {},
   "source": [
    "### 객체 모듈에 별칭 적용하기\n",
    "별칭이름.객체명 형태로 접근 "
   ]
  },
  {
   "cell_type": "code",
   "execution_count": 159,
   "id": "b61d6111",
   "metadata": {},
   "outputs": [
    {
     "name": "stdout",
     "output_type": "stream",
     "text": [
      "45\n",
      "15\n"
     ]
    }
   ],
   "source": [
    "from mylibrary import MyMod3 as MyObject\n",
    "\n",
    "print(MyObject.my_calc.plus(30,15))\n",
    "print(MyObject.my_calc.minus(30,15))"
   ]
  },
  {
   "cell_type": "markdown",
   "id": "dec02d2b",
   "metadata": {},
   "source": [
    "### 모듈 내의 개별 기능 단위로 참조하기\n",
    "from 구문에 모듈이름까지 명시하고, import 구문에 가져올 기능을 명시한다\n",
    "\n",
    "form.패키지이름.모듈이름 import 기능이름\n",
    "\n",
    "- 개별단위로 참조한 기능 활용하기\n",
    "  1. 함수이름()\n",
    "  2. 변수=클래스이름()\n",
    "  3. 객체이름.메서드()"
   ]
  },
  {
   "cell_type": "markdown",
   "id": "f1323fa0",
   "metadata": {},
   "source": [
    "### 모듈 파일의 함수 직접 호출하기\n",
    "모듈 이름 없이 함수에 직접 접근할 수 있다"
   ]
  },
  {
   "cell_type": "code",
   "execution_count": 160,
   "id": "bef4fd64",
   "metadata": {},
   "outputs": [
    {
     "name": "stdout",
     "output_type": "stream",
     "text": [
      "7\n"
     ]
    }
   ],
   "source": [
    "from mylibrary.MyMod1 import plus\n",
    "\n",
    "print(plus(3,4))\n",
    "\n",
    "#이떄 import 하지 않은 함수는 사용할 수 없고, 에러가 발생한다 ex) 현재 상황에서는 minus"
   ]
  },
  {
   "cell_type": "markdown",
   "id": "bd971a9a",
   "metadata": {},
   "source": [
    "### 모듈 파일의 클래스에 직접 접근하기\n",
    "모듈 이름 없이 함수에 직접 접근할 수 있음"
   ]
  },
  {
   "cell_type": "code",
   "execution_count": 161,
   "id": "811089ea",
   "metadata": {},
   "outputs": [
    {
     "name": "stdout",
     "output_type": "stream",
     "text": [
      "---------생성자가 실행되었습니다-------------\n",
      "이름 : 파이썬 학생 / 이메일 :abc123@gmail.com\n"
     ]
    }
   ],
   "source": [
    "from mylibrary.MyMod2 import Member\n",
    "\n",
    "mem=Member('파이썬 학생','abc123@gmail.com')\n",
    "mem.view_info()"
   ]
  },
  {
   "cell_type": "markdown",
   "id": "2fbf54f0",
   "metadata": {},
   "source": [
    "### 모듈 파일의 객체에 직접 접근하기\n",
    "모듈 이름 없이 객체에 직접 접근한다\n"
   ]
  },
  {
   "cell_type": "code",
   "execution_count": 162,
   "id": "baf06441",
   "metadata": {},
   "outputs": [
    {
     "name": "stdout",
     "output_type": "stream",
     "text": [
      "45\n",
      "15\n"
     ]
    }
   ],
   "source": [
    "from mylibrary.MyMod3 import my_calc \n",
    "\n",
    "#모듈에 정의된 특정 객체만 골라서 참조\n",
    "print(my_calc.plus(30,15))\n",
    "print(my_calc.minus(30,15))\n"
   ]
  },
  {
   "cell_type": "markdown",
   "id": "4bd51a7e",
   "metadata": {},
   "source": [
    "### 모듈 내의 개별 기능 단위로 참조한 모듈에 별칭 부여하기\n",
    "개별적으로 가져온 기능에 대해서도 별칭을 부여할 수 있음\n",
    "\n",
    "form 패키지 이름.모듈이름 import 기능 이름 as 별칭\n",
    "\n",
    "- 개별 단위로 참조한 기능 활용하기\n",
    "  1) 별칭()\n",
    "  2) 변수 = 별칭()\n",
    "  3) 별칭.메서드()"
   ]
  },
  {
   "cell_type": "markdown",
   "id": "89acfa55",
   "metadata": {},
   "source": [
    "#### 기능 단위로 참조한 모듈에 별칭 부여하기\n",
    "하나의 블럭에서 여러 모듈을 참조할 수 있음"
   ]
  },
  {
   "cell_type": "code",
   "execution_count": 163,
   "id": "61b95382",
   "metadata": {},
   "outputs": [
    {
     "name": "stdout",
     "output_type": "stream",
     "text": [
      "45\n",
      "---------생성자가 실행되었습니다-------------\n",
      "이름 : 정뿌시 / 이메일 :abc123@gmail.com\n",
      "300\n"
     ]
    }
   ],
   "source": [
    "from mylibrary.MyMod1 import plus as 더하기\n",
    "from mylibrary.MyMod2 import Member as 회원클래스\n",
    "from mylibrary.MyMod3 import my_calc as 계산기\n",
    "\n",
    "print(더하기(30,15))\n",
    "\n",
    "\n",
    "회원 = 회원클래스('정뿌시','abc123@gmail.com')\n",
    "회원.view_info()\n",
    "\n",
    "\n",
    "print(계산기.plus(100,200))"
   ]
  },
  {
   "cell_type": "markdown",
   "id": "6cce7942",
   "metadata": {},
   "source": [
    "### 파이썬 내장 모듈 소개\n",
    "\n",
    "1. 시스템 정보 : sys,os\n",
    "2. 파일, 디렉토리 작업 : os, shutil, glob\n",
    "3. 날짜 ,시간 관련 작업 : datetime\n",
    "4. 메일관련 작업 : email, smtplib"
   ]
  },
  {
   "cell_type": "markdown",
   "id": "d4840e0b",
   "metadata": {},
   "source": [
    "### 모듈 참조하기/현재 운영체제 이름 조회"
   ]
  },
  {
   "cell_type": "code",
   "execution_count": 164,
   "id": "b009dfa4",
   "metadata": {},
   "outputs": [
    {
     "name": "stdout",
     "output_type": "stream",
     "text": [
      "win32\n"
     ]
    }
   ],
   "source": [
    "import sys   #현재 시스템 정볼흘 제공하는 모듈\n",
    "import os    #운영체제의 기능에 접근할 수 있는 모듈\n",
    "\n",
    "print(sys.platform)   #현재 운영체제 이름을 조회할 수 있음"
   ]
  },
  {
   "cell_type": "code",
   "execution_count": 165,
   "id": "9771c8ef",
   "metadata": {},
   "outputs": [
    {
     "name": "stdout",
     "output_type": "stream",
     "text": [
      "['.git', '.gitconfig', '.gitignore', '251021_covid_file_practice.ipynb', '251021_file_practice.ipynb', 'covid19.csv', 'hello', 'mylibrary', 'python', 'README.md', '[LAB-01] 파이썬 시작하기, 변수와 연산자.ipynb', '[LAB-02] 함수의 이해, 코딩테스트 준비, 조건문, 반복문.ipynb', '[LAB-03] 프로그램 흐름제어, 리스트(1).ipynb', '[LAB-04] 리스트(2), 문자열.ipynb', '[LAB-05] 딕셔너리,예외처리,파일입출력.ipynb', '[LAB-06] 객체 지향 프로그래밍의 이해.ipynb', '[LAB-07] 모듈과 라이브러리, 파이썬 내장 라이브러리.ipynb']\n"
     ]
    }
   ],
   "source": [
    "### 경로 문자열 관련 기능\n",
    "ls = os.listdir('./')    # ./는 현재 폴더를 의미\n",
    "print(ls)\n",
    "\n",
    "#현재 폴더 안에 있는 하위 항목들의 이름들을 리스트로 받을 수 있음"
   ]
  },
  {
   "cell_type": "code",
   "execution_count": 166,
   "id": "f7482217",
   "metadata": {},
   "outputs": [
    {
     "name": "stdout",
     "output_type": "stream",
     "text": [
      "True\n"
     ]
    }
   ],
   "source": [
    "#os 모듈 내 path 객체에 있는 exist 메서드를 실행한 것, 현재 경로에서 hello 라는 파일이 있는지 존재 여부를 확인하는 것\n",
    "k=os.path.exists('./hello')   #상대경로 기준\n",
    "print(k)"
   ]
  },
  {
   "cell_type": "code",
   "execution_count": 167,
   "id": "e7257e57",
   "metadata": {},
   "outputs": [
    {
     "name": "stdout",
     "output_type": "stream",
     "text": [
      "c:\\python_basic\\hello\n"
     ]
    }
   ],
   "source": [
    "#절대 경로를 기준으로 확인하는 방법, 파일이 없어도 경로 값을 출력한다\n",
    "print(os.path.abspath('./hello'))"
   ]
  },
  {
   "cell_type": "code",
   "execution_count": 168,
   "id": "a4aacf2a",
   "metadata": {},
   "outputs": [
    {
     "name": "stdout",
     "output_type": "stream",
     "text": [
      "hello 폴더를 삭제했습니다.\n"
     ]
    }
   ],
   "source": [
    "### 폴더의 생성과 삭제\n",
    "if os.path.exists('./hello') ==False: #만약 현재 경로에서 hello 라는 폴더가 있는지 확인했을 때 없다고 나오면?\n",
    "\n",
    "  #mkdir 는 가장 마지막 경로에 있는 폴더만 만드는 거라서 폴더 내 폴더 같은 게층 구조를 만들기에는 적합하지 않음\n",
    "  os.mkdir('./hello')\n",
    "  print('hello 폴더를 생성했습니다')\n",
    "\n",
    "\n",
    "#rmdir 를 사용하려면 폴더가 비워져 있어야함\n",
    "else :\n",
    "  os.rmdir('./hello')\n",
    "  print('hello 폴더를 삭제했습니다.')"
   ]
  },
  {
   "cell_type": "markdown",
   "id": "6cbb58cd",
   "metadata": {},
   "source": [
    "### 파일이나 폴더 검색"
   ]
  },
  {
   "cell_type": "code",
   "execution_count": 169,
   "id": "3fbb17fd",
   "metadata": {},
   "outputs": [
    {
     "name": "stdout",
     "output_type": "stream",
     "text": [
      "['251021_covid_file_practice.ipynb', '251021_file_practice.ipynb', 'covid19.csv', 'mylibrary', 'python', 'README.md', '[LAB-01] 파이썬 시작하기, 변수와 연산자.ipynb', '[LAB-02] 함수의 이해, 코딩테스트 준비, 조건문, 반복문.ipynb', '[LAB-03] 프로그램 흐름제어, 리스트(1).ipynb', '[LAB-04] 리스트(2), 문자열.ipynb', '[LAB-05] 딕셔너리,예외처리,파일입출력.ipynb', '[LAB-06] 객체 지향 프로그래밍의 이해.ipynb', '[LAB-07] 모듈과 라이브러리, 파이썬 내장 라이브러리.ipynb']\n",
      "['covid19.csv']\n",
      "['[LAB-01] 파이썬 시작하기, 변수와 연산자.ipynb', '[LAB-02] 함수의 이해, 코딩테스트 준비, 조건문, 반복문.ipynb', '[LAB-03] 프로그램 흐름제어, 리스트(1).ipynb', '[LAB-04] 리스트(2), 문자열.ipynb', '[LAB-05] 딕셔너리,예외처리,파일입출력.ipynb', '[LAB-06] 객체 지향 프로그래밍의 이해.ipynb', '[LAB-07] 모듈과 라이브러리, 파이썬 내장 라이브러리.ipynb']\n"
     ]
    }
   ],
   "source": [
    "import glob as gl \n",
    "\n",
    "#현재 폴더의 모든 하위 요소를 조회할 수 있다\n",
    "ls = gl.glob('*')\n",
    "print(ls)\n",
    "\n",
    "#csv 확장자 파일만 조회하기\n",
    "ls= gl.glob('*.csv')\n",
    "print(ls)\n",
    "\n",
    "#특정 키워드가 들어간 파일만 조회하기\n",
    "ls=gl.glob('*LAB*')\n",
    "print(ls)\n"
   ]
  },
  {
   "cell_type": "markdown",
   "id": "4b2a840c",
   "metadata": {},
   "source": [
    "### 폴더 트리 생성과 삭제"
   ]
  },
  {
   "cell_type": "code",
   "execution_count": 170,
   "id": "1cce8796",
   "metadata": {},
   "outputs": [
    {
     "name": "stdout",
     "output_type": "stream",
     "text": [
      "python 폴더가 삭제되었습니다\n"
     ]
    }
   ],
   "source": [
    "import shutil   #파일, 폴더 관련 작업 기능을 제공하는 라이브러리\n",
    "\n",
    "if os.path.exists('python') == False:    #만약 현재 작업 위치에 python 이라는 폴더가 없다면 아래처럼 python 폴더 내 하위 폴더들이 있는 형태로 새로 생성\n",
    "\n",
    "#makedirs 이기 떄문에, 마지막 폴더만 생성하는 mkdirs 와 달리 모두 생성되고, 이미 존재하는 폴더가 있더라도 exist_ok 옵션 덕분에 에러를 방지할 수 있다\n",
    "  os.makedirs('python/test/hello/world',exist_ok=True)\n",
    "  print('python 폴더와 하위 폴더들을 생성 했습니다')\n",
    "\n",
    "\n",
    "#비어있지 않은 폴더도 강제로 삭제하고, 존재하지 않는 폴더면 에러가 발생한다\n",
    "else :\n",
    "  shutil.rmtree('python')\n",
    "  print('python 폴더가 삭제되었습니다')\n",
    "\n",
    "\n"
   ]
  },
  {
   "cell_type": "markdown",
   "id": "438b7aca",
   "metadata": {},
   "source": [
    "### 폴더의 이동과 폴더 트리 복사"
   ]
  },
  {
   "cell_type": "code",
   "execution_count": 171,
   "id": "bab8bca6",
   "metadata": {},
   "outputs": [],
   "source": [
    "#폴더의 이동\n",
    "# 만약 python 이라는 파일이 있으면 상위 경로로 옮기는데, 이름은 created 로 바꾼다\n",
    "if os.path.exists('python'):\n",
    "  shutil.move('python','../created')\n",
    "  print('python 폴더가 ../created 폴더로 이동되었습니다')"
   ]
  },
  {
   "cell_type": "code",
   "execution_count": 172,
   "id": "8f3ff6d8",
   "metadata": {},
   "outputs": [
    {
     "ename": "FileNotFoundError",
     "evalue": "[WinError 3] 지정된 경로를 찾을 수 없습니다: '../created,'",
     "output_type": "error",
     "traceback": [
      "\u001b[31m---------------------------------------------------------------------------\u001b[39m",
      "\u001b[31mFileNotFoundError\u001b[39m                         Traceback (most recent call last)",
      "\u001b[36mCell\u001b[39m\u001b[36m \u001b[39m\u001b[32mIn[172]\u001b[39m\u001b[32m, line 3\u001b[39m\n\u001b[32m      1\u001b[39m \u001b[38;5;66;03m#폴더의 복사\u001b[39;00m\n\u001b[32m      2\u001b[39m \u001b[38;5;28;01mif\u001b[39;00m os.path.exists(\u001b[33m'\u001b[39m\u001b[33m../created\u001b[39m\u001b[33m'\u001b[39m):\n\u001b[32m----> \u001b[39m\u001b[32m3\u001b[39m   \u001b[43mshutil\u001b[49m\u001b[43m.\u001b[49m\u001b[43mcopytree\u001b[49m\u001b[43m(\u001b[49m\u001b[33;43m'\u001b[39;49m\u001b[33;43m../created,\u001b[39;49m\u001b[33;43m'\u001b[39;49m\u001b[43m,\u001b[49m\u001b[33;43m'\u001b[39;49m\u001b[33;43m./copy\u001b[39;49m\u001b[33;43m'\u001b[39;49m\u001b[43m)\u001b[49m\n\u001b[32m      4\u001b[39m   \u001b[38;5;28mprint\u001b[39m(\u001b[33m'\u001b[39m\u001b[33mpython 폴더가 copy 로 복사되었습니다\u001b[39m\u001b[33m'\u001b[39m)\n",
      "\u001b[36mFile \u001b[39m\u001b[32mc:\\Users\\itwill\\AppData\\Local\\Programs\\Python\\Python313\\Lib\\shutil.py:591\u001b[39m, in \u001b[36mcopytree\u001b[39m\u001b[34m(src, dst, symlinks, ignore, copy_function, ignore_dangling_symlinks, dirs_exist_ok)\u001b[39m\n\u001b[32m    552\u001b[39m \u001b[38;5;250m\u001b[39m\u001b[33;03m\"\"\"Recursively copy a directory tree and return the destination directory.\u001b[39;00m\n\u001b[32m    553\u001b[39m \n\u001b[32m    554\u001b[39m \u001b[33;03mIf exception(s) occur, an Error is raised with a list of reasons.\u001b[39;00m\n\u001b[32m   (...)\u001b[39m\u001b[32m    588\u001b[39m \u001b[33;03m`src` tree.\u001b[39;00m\n\u001b[32m    589\u001b[39m \u001b[33;03m\"\"\"\u001b[39;00m\n\u001b[32m    590\u001b[39m sys.audit(\u001b[33m\"\u001b[39m\u001b[33mshutil.copytree\u001b[39m\u001b[33m\"\u001b[39m, src, dst)\n\u001b[32m--> \u001b[39m\u001b[32m591\u001b[39m \u001b[38;5;28;01mwith\u001b[39;00m \u001b[43mos\u001b[49m\u001b[43m.\u001b[49m\u001b[43mscandir\u001b[49m\u001b[43m(\u001b[49m\u001b[43msrc\u001b[49m\u001b[43m)\u001b[49m \u001b[38;5;28;01mas\u001b[39;00m itr:\n\u001b[32m    592\u001b[39m     entries = \u001b[38;5;28mlist\u001b[39m(itr)\n\u001b[32m    593\u001b[39m \u001b[38;5;28;01mreturn\u001b[39;00m _copytree(entries=entries, src=src, dst=dst, symlinks=symlinks,\n\u001b[32m    594\u001b[39m                  ignore=ignore, copy_function=copy_function,\n\u001b[32m    595\u001b[39m                  ignore_dangling_symlinks=ignore_dangling_symlinks,\n\u001b[32m    596\u001b[39m                  dirs_exist_ok=dirs_exist_ok)\n",
      "\u001b[31mFileNotFoundError\u001b[39m: [WinError 3] 지정된 경로를 찾을 수 없습니다: '../created,'"
     ]
    }
   ],
   "source": [
    "#폴더의 복사\n",
    "if os.path.exists('../created'):\n",
    "  shutil.copytree('../created,','./copy')\n",
    "  print('python 폴더가 copy 로 복사되었습니다')"
   ]
  },
  {
   "cell_type": "markdown",
   "id": "3dc46db4",
   "metadata": {},
   "source": [
    "### 파일 복사 및 삭제 작업"
   ]
  },
  {
   "cell_type": "code",
   "execution_count": 182,
   "id": "fbe90fde",
   "metadata": {},
   "outputs": [
    {
     "name": "stdout",
     "output_type": "stream",
     "text": [
      "hello.txt 파일을 생성했습니다\n",
      "hello.txt 가 world.txt 로 복사되었습니다\n"
     ]
    }
   ],
   "source": [
    "\n",
    "#os 모듈 내의 path 객체가 가지는 exists 함수를 사용해서 hello.txt 파일이 존재하지 않으면 해당 코드 실행\n",
    "\n",
    "if os.path.exists('hello.txt') ==False:\n",
    "  with open(\"hello.txt\",\"w\",encoding='utf-8') as f:\n",
    "    f.write(\"Life is too short, you need python\")\n",
    "    print('hello.txt 파일을 생성했습니다')\n",
    "\n",
    "\n",
    "#위에서 만들어진 파일을 복사하고, 만약 이미 존재하면 덮어쓴다\n",
    "  shutil.copy('hello.txt','world.txt')\n",
    "  print('hello.txt 가 world.txt 로 복사되었습니다')\n",
    "\n",
    "\n",
    "\n",
    "else:\n",
    "  os.remove('hello.txt')\n",
    "  print('hello.txt 가 삭제되었습니다')\n",
    "  os.remove('world.txt')\n",
    "  print('world.txt 가 삭제되었습니다')"
   ]
  },
  {
   "cell_type": "code",
   "execution_count": null,
   "id": "adae307a",
   "metadata": {},
   "outputs": [],
   "source": []
  },
  {
   "cell_type": "markdown",
   "id": "5a3d5017",
   "metadata": {},
   "source": [
    "## 날짜/시간 관련 기능"
   ]
  },
  {
   "cell_type": "markdown",
   "id": "e83a812d",
   "metadata": {},
   "source": [
    "### 현재 시각 조회\n",
    "시스템에 있는 현재 시각을 조회해보자"
   ]
  },
  {
   "cell_type": "code",
   "execution_count": null,
   "id": "f0968782",
   "metadata": {},
   "outputs": [
    {
     "name": "stdout",
     "output_type": "stream",
     "text": [
      "2025-10-24 15:07:13.654992\n",
      "2025\n",
      "10\n",
      "24\n",
      "15\n",
      "7\n",
      "13\n",
      "654992\n",
      "4\n"
     ]
    }
   ],
   "source": [
    "#datetime 모듈에 있는 datetime 객체는 now() 함수를 통해 시스템의 현재 시각을 저장하고 있음\n",
    "\n",
    "import datetime as dt\n",
    "now_time = dt.datetime.now()\n",
    "\n",
    "\n",
    "print(now_time)\n",
    "print(now_time.year)\n",
    "print(now_time.month)\n",
    "print(now_time.day)\n",
    "print(now_time.hour)\n",
    "print(now_time.minute)\n",
    "print(now_time.second)\n",
    "print(now_time.microsecond)\n",
    "print(now_time.weekday())    #요일 인덱스는 0-6 이고 월요일 부터 일요일을 의미함\n",
    "      \n"
   ]
  },
  {
   "cell_type": "markdown",
   "id": "7025c59e",
   "metadata": {},
   "source": [
    "### 날짜 객체의 성분 추출"
   ]
  },
  {
   "cell_type": "code",
   "execution_count": null,
   "id": "b44164ac",
   "metadata": {},
   "outputs": [
    {
     "name": "stdout",
     "output_type": "stream",
     "text": [
      "오늘은 2025 년 10 월 24 일 입니다\n"
     ]
    }
   ],
   "source": [
    "#now_time 을 통해 년.월.일 추출\n",
    "message = '오늘은 %d 년 %d 월 %d 일 입니다'\n",
    "print(message %(now_time.year,now_time.month,now_time.day))"
   ]
  },
  {
   "cell_type": "code",
   "execution_count": null,
   "id": "3f36befc",
   "metadata": {},
   "outputs": [
    {
     "name": "stdout",
     "output_type": "stream",
     "text": [
      "지금은 15 시 7 분 13 초 입니다\n"
     ]
    }
   ],
   "source": [
    "#now_time 을 통해 시,분,초 추출\n",
    "message = '지금은 %d 시 %d 분 %d 초 입니다'\n",
    "print(message %(now_time.hour,now_time.minute,now_time.second))"
   ]
  },
  {
   "cell_type": "code",
   "execution_count": null,
   "id": "d1f58e4e",
   "metadata": {},
   "outputs": [
    {
     "name": "stdout",
     "output_type": "stream",
     "text": [
      "4\n",
      "금\n"
     ]
    }
   ],
   "source": [
    "#현재 요일의 인덱스 조회\n",
    "d=now_time.weekday()\n",
    "print(d)\n",
    "\n",
    "\n",
    "#조회한 인덱스를 기준으로 요일을 불러올 수 있다\n",
    "week_days=[\"월\",\"화\",\"수\",'목','금','토','일']\n",
    "print(week_days[d])"
   ]
  },
  {
   "cell_type": "markdown",
   "id": "0b274edf",
   "metadata": {},
   "source": [
    "### 날짜에 대한 형식 문자열의 활용\n",
    "날짜 객체의 strftime() 함수는 날짜 성분에 대한 형식 문자를 사용해\n",
    "형식이 갖춰진 문자열을 생성하여 리턴한다\n",
    "(string format time)"
   ]
  },
  {
   "cell_type": "code",
   "execution_count": null,
   "id": "0b88a1ec",
   "metadata": {},
   "outputs": [
    {
     "name": "stdout",
     "output_type": "stream",
     "text": [
      "25-10-24 15:07:13\n",
      "2025년 10월 24일 15시 07분 13초\n"
     ]
    }
   ],
   "source": [
    "print(now_time.strftime(\"%y-%m-%d %H:%M:%S\"))\n",
    "\n",
    "print(now_time.strftime(\"%Y년 %m월 %d일 %H시 %M분 %S초\"))"
   ]
  },
  {
   "cell_type": "markdown",
   "id": "a9ee1873",
   "metadata": {},
   "source": [
    "### 특정 시각 지정하기\n",
    "특정 날짜 값을 지정하는 객체 생성"
   ]
  },
  {
   "cell_type": "code",
   "execution_count": null,
   "id": "1f782e26",
   "metadata": {},
   "outputs": [
    {
     "name": "stdout",
     "output_type": "stream",
     "text": [
      "2018-12-13 14:55:30\n",
      "2018-12-13 14:55:30\n"
     ]
    }
   ],
   "source": [
    "#datetime 모듈의 datetime() 함수에 전달한 파라미터 값들을 성분으로 갖는 날짜객체 생성하기\n",
    "\n",
    "import datetime as dt\n",
    "some_time =dt.datetime(2018,12,13,14,55,30)  #년 월 일 시 분 초\n",
    "print(some_time)\n",
    "\n",
    "#문자열에서 날짜 성분을 추출한 후 객체로 변환하기\n",
    "str = \"2018년 12월 13일 14시 55분 30초\"\n",
    "somt_time=dt.datetime.strptime(str,\"%Y년 %m월 %d일 %H시 %M분 %S초\")\n",
    "print(some_time)\n"
   ]
  },
  {
   "cell_type": "markdown",
   "id": "efbda179",
   "metadata": {},
   "source": [
    "### 특정 시각 지정하기"
   ]
  },
  {
   "cell_type": "code",
   "execution_count": null,
   "id": "2592b844",
   "metadata": {},
   "outputs": [
    {
     "name": "stdout",
     "output_type": "stream",
     "text": [
      "2017-01-25 14:55:30\n",
      "2018-12-13 14:55:30\n"
     ]
    }
   ],
   "source": [
    "#날짜 객체의 특정 성분 값만 변경하기\n",
    "#변경이 불필요한 파라미터는 생각해도 무방함\n",
    "\n",
    "what_time =some_time.replace(year=2017,month=1,day=25)\n",
    "print(what_time)\n",
    "print(some_time)"
   ]
  },
  {
   "cell_type": "code",
   "execution_count": null,
   "id": "a9286ac5",
   "metadata": {},
   "outputs": [
    {
     "name": "stdout",
     "output_type": "stream",
     "text": [
      "18-08-30 13:26:55\n"
     ]
    }
   ],
   "source": [
    "import datetime as dt\n",
    "\n",
    "# datetime 객체 생성\n",
    "someday = dt.datetime(2018, 8, 30, 13, 26, 55)\n",
    "day_str = someday.strftime(\"%y-%m-%d %H:%M:%S\")\n",
    "print(day_str)\n"
   ]
  },
  {
   "cell_type": "markdown",
   "id": "e25787e2",
   "metadata": {},
   "source": [
    "### 날짜 형식의 문자열을 객체로 변환하기"
   ]
  },
  {
   "cell_type": "code",
   "execution_count": 173,
   "id": "9bb291b3",
   "metadata": {},
   "outputs": [
    {
     "name": "stdout",
     "output_type": "stream",
     "text": [
      "17-01-02 14:44:00\n"
     ]
    }
   ],
   "source": [
    "import datetime as dt\n",
    "\n",
    "date_str = \"2017년 01월 02일 14시 44분\"\n",
    "# 문자열을 datetime 객체로 변환 (strptime)\n",
    "oldday = dt.datetime.strptime(date_str, \"%Y년 %m월 %d일 %H시 %M분\")\n",
    "print(oldday.strftime(\"%y-%m-%d %H:%M:%S\"))\n"
   ]
  },
  {
   "cell_type": "markdown",
   "id": "d632a311",
   "metadata": {},
   "source": [
    "### 날짜 객체에서 특정 값 변경하기"
   ]
  },
  {
   "cell_type": "code",
   "execution_count": 174,
   "id": "9a2b802d",
   "metadata": {},
   "outputs": [
    {
     "name": "stdout",
     "output_type": "stream",
     "text": [
      "25-10-24 15:31:18\n",
      "18-10-16 15:31:18\n"
     ]
    }
   ],
   "source": [
    "import datetime as dt\n",
    "\n",
    "foo = dt.datetime.now()\n",
    "print(foo.strftime(\"%y-%m-%d %H:%M:%S\"))\n",
    "\n",
    "# 날짜 일부 변경\n",
    "change_date = foo.replace(year=2018, day=16, hour=15)\n",
    "print(change_date.strftime(\"%y-%m-%d %H:%M:%S\"))\n"
   ]
  },
  {
   "cell_type": "markdown",
   "id": "30235ade",
   "metadata": {},
   "source": [
    "### 두 날짜 간의 차이 계산하기"
   ]
  },
  {
   "cell_type": "code",
   "execution_count": 175,
   "id": "5df24698",
   "metadata": {},
   "outputs": [
    {
     "name": "stdout",
     "output_type": "stream",
     "text": [
      "68 days, 8:28:39.261934\n"
     ]
    }
   ],
   "source": [
    "import datetime as dt\n",
    "\n",
    "# 두 날짜 만들기\n",
    "dt1 = dt.datetime.now()                          # 오늘 날짜\n",
    "dt2 = dt.datetime(dt1.year + 1, 1, 1, 0, 0, 0)   # 내년 1월 1일\n",
    "\n",
    "# 두 날짜의 차이 (timedelta)\n",
    "td = dt2 - dt1\n",
    "print(td)\n"
   ]
  },
  {
   "cell_type": "markdown",
   "id": "c8cae8cf",
   "metadata": {},
   "source": [
    "### timedelta 객체의 프로퍼티"
   ]
  },
  {
   "cell_type": "code",
   "execution_count": 176,
   "id": "7b0202b3",
   "metadata": {},
   "outputs": [
    {
     "name": "stdout",
     "output_type": "stream",
     "text": [
      "68\n",
      "30519\n",
      "올해는 68일 남았습니다.\n"
     ]
    }
   ],
   "source": [
    "# 날짜만 추출\n",
    "print(td.days)      # ex) 245일\n",
    "# 시간, 분, 초 합산한 초 단위 값\n",
    "print(td.seconds)   # ex) 9800초\n",
    "print(\"올해는 %d일 남았습니다.\" % td.days)\n"
   ]
  },
  {
   "cell_type": "markdown",
   "id": "b74e345d",
   "metadata": {},
   "source": [
    "### 몇 일 후의 날짜 계산하기"
   ]
  },
  {
   "cell_type": "code",
   "execution_count": 178,
   "id": "cc45826e",
   "metadata": {},
   "outputs": [
    {
     "name": "stdout",
     "output_type": "stream",
     "text": [
      "2026-02-01 17:30:18\n"
     ]
    }
   ],
   "source": [
    "import datetime as dt\n",
    "\n",
    "# timedelta 객체 만들기 (100일 + 3600초)\n",
    "d = dt.timedelta(days=100, seconds=3600)\n",
    "\n",
    "# 현재 시간\n",
    "now_time = dt.datetime.now()\n",
    "\n",
    "# 더하기 (연산 결과도 datetime 객체)\n",
    "after_time = now_time + d\n",
    "\n",
    "print(after_time.strftime(\"%Y-%m-%d %H:%M:%S\"))\n"
   ]
  },
  {
   "cell_type": "markdown",
   "id": "15ded838",
   "metadata": {},
   "source": [
    "## 메일발송기능"
   ]
  },
  {
   "cell_type": "code",
   "execution_count": 180,
   "id": "f00f74ca",
   "metadata": {},
   "outputs": [],
   "source": [
    "import os\n",
    "from smtplib import SMTP\n",
    "from email.mime.text import MIMEText\n",
    "from email.mime.application import MIMEApplication\n",
    "from email.mime.multipart import MIMEMultipart"
   ]
  },
  {
   "cell_type": "code",
   "execution_count": null,
   "id": "b18810b4",
   "metadata": {},
   "outputs": [],
   "source": [
    "#보내는 사람 주소\n",
    "from_addr ='bohee0506@gmail.com'\n",
    "\n",
    "to_addr='leekh4232@yonsei.ac.kr -----'\n",
    "\n",
    "subject =\"강사님 대방어 좋아하시나요?\"\n",
    "\n",
    "content = \"\"\"\n",
    "오늘 점심 먹으러 갔다가 찾은 대방어 맛집 공유드립니다 :D\n",
    "\n",
    "https://map.naver.com/p/search/%EB%8F%84%ED%88%BC/place/1847512537?placePath=/home\n",
    "\n",
    "카카오 맵 평점 무려 4.1 점입니당\n",
    "\n",
    "\"\"\"\n",
    "\n",
    "files = [\"hello.txt\",\"world.txt\"]\n",
    "\n"
   ]
  },
  {
   "cell_type": "code",
   "execution_count": 185,
   "id": "42b6a01c",
   "metadata": {},
   "outputs": [],
   "source": [
    "content_type ='plain'\n",
    "username = \"bohee0506@gmail.com\"\n",
    "password =\"xtth ykdj asna jjbb\"\n",
    "\n",
    "\n",
    "smtp =\"smtp.gmail.com\"\n",
    "port = 587"
   ]
  },
  {
   "cell_type": "code",
   "execution_count": 186,
   "id": "99eeea06",
   "metadata": {},
   "outputs": [],
   "source": [
    "msg = MIMEMultipart()\n",
    "\n",
    "msg['Subject'] =subject\n",
    "msg['From'] =from_addr\n",
    "msg['To'] =to_addr\n",
    "\n",
    "\n",
    "msg.attach(MIMEText(content,content_type))\n"
   ]
  },
  {
   "cell_type": "code",
   "execution_count": 188,
   "id": "ba7449f0",
   "metadata": {},
   "outputs": [
    {
     "name": "stdout",
     "output_type": "stream",
     "text": [
      "hello.txt (이)가 첨부되었습니다\n",
      "world.txt (이)가 첨부되었습니다\n"
     ]
    }
   ],
   "source": [
    "if files:\n",
    "  for file_item in files:\n",
    "    if os.path.exists(file_item):\n",
    "      with open(file_item,'rb') as f:\n",
    "        basename =os.path.basename(file_item)\n",
    "\n",
    "        part =MIMEApplication(f.read(),Name = basename)\n",
    "\n",
    "        part['Contenr-Dispositin'] = 'attachment; filename=\"%s\"' %basename\n",
    "        msg.attach(part)\n",
    "\n",
    "        print(basename,\"(이)가 첨부되었습니다\")"
   ]
  },
  {
   "cell_type": "code",
   "execution_count": 189,
   "id": "3311b59c",
   "metadata": {},
   "outputs": [
    {
     "data": {
      "text/plain": [
       "(221,\n",
       " b'2.0.0 closing connection 41be03b00d2f7-b6cf4c05489sm4246814a12.10 - gsmtp')"
      ]
     },
     "execution_count": 189,
     "metadata": {},
     "output_type": "execute_result"
    }
   ],
   "source": [
    "mail = SMTP (smtp)\n",
    "mail.ehlo()\n",
    "mail.starttls()\n",
    "mail.login(username,password)\n",
    "mail.sendmail(from_addr,to_addr,msg.as_string())\n",
    "mail.quit()"
   ]
  },
  {
   "cell_type": "markdown",
   "id": "0c6bc21c",
   "metadata": {},
   "source": []
  }
 ],
 "metadata": {
  "kernelspec": {
   "display_name": "Python 3",
   "language": "python",
   "name": "python3"
  },
  "language_info": {
   "codemirror_mode": {
    "name": "ipython",
    "version": 3
   },
   "file_extension": ".py",
   "mimetype": "text/x-python",
   "name": "python",
   "nbconvert_exporter": "python",
   "pygments_lexer": "ipython3",
   "version": "3.13.9"
  }
 },
 "nbformat": 4,
 "nbformat_minor": 5
}
